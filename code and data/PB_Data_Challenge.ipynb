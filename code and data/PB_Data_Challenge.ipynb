{
 "cells": [
  {
   "cell_type": "markdown",
   "metadata": {
    "id": "2c76dv4iWz9T"
   },
   "source": [
    "# Pitney Bowes Meters Failure Prediction by Historical Data Performance"
   ]
  },
  {
   "cell_type": "markdown",
   "metadata": {
    "id": "KzCa_B5hXt5o"
   },
   "source": [
    "# Environment Set Up"
   ]
  },
  {
   "cell_type": "code",
   "execution_count": 1,
   "metadata": {},
   "outputs": [],
   "source": [
    "from sklearn import tree"
   ]
  },
  {
   "cell_type": "code",
   "execution_count": 2,
   "metadata": {
    "id": "HNou99LosmYA"
   },
   "outputs": [],
   "source": [
    "import numpy as np\n",
    "import pandas as pd\n",
    "from sklearn.datasets import load_boston\n",
    "from sklearn.model_selection import train_test_split\n",
    "from sklearn.ensemble import RandomForestRegressor\n",
    "from sklearn.inspection import permutation_importance\n",
    "import seaborn as sns\n",
    "from sklearn.metrics import classification_report, confusion_matrix\n",
    "from sklearn.impute import SimpleImputer"
   ]
  },
  {
   "cell_type": "code",
   "execution_count": 3,
   "metadata": {
    "id": "P5NSBY4HY4qQ"
   },
   "outputs": [],
   "source": [
    "from sklearn.linear_model import LogisticRegression\n",
    "from sklearn.metrics import classification_report\n",
    "from sklearn.metrics import accuracy_score"
   ]
  },
  {
   "cell_type": "code",
   "execution_count": 4,
   "metadata": {
    "id": "cu2tUsu9asAv"
   },
   "outputs": [],
   "source": [
    "# pip install pydot\n",
    "# pip install pydotplus\n",
    "import pydotplus"
   ]
  },
  {
   "cell_type": "code",
   "execution_count": 5,
   "metadata": {
    "id": "dkN5UFALa8N_"
   },
   "outputs": [],
   "source": [
    "import datetime\n",
    "from sklearn.tree import export_graphviz\n",
    "from sklearn.tree import DecisionTreeClassifier\n",
    "import pydot\n",
    "from IPython.display import Image\n",
    "import matplotlib.pyplot as plt\n",
    "%matplotlib inline"
   ]
  },
  {
   "cell_type": "markdown",
   "metadata": {
    "id": "zac9fnU5X0cx"
   },
   "source": [
    "# Data Collection"
   ]
  },
  {
   "cell_type": "code",
   "execution_count": 6,
   "metadata": {
    "colab": {
     "base_uri": "https://localhost:8080/",
     "height": 317
    },
    "id": "-DGDVaqv-rgw",
    "outputId": "4cdf5e43-cf62-4b9c-92c7-858fa550ceb8"
   },
   "outputs": [
    {
     "data": {
      "text/html": [
       "<div>\n",
       "<style scoped>\n",
       "    .dataframe tbody tr th:only-of-type {\n",
       "        vertical-align: middle;\n",
       "    }\n",
       "\n",
       "    .dataframe tbody tr th {\n",
       "        vertical-align: top;\n",
       "    }\n",
       "\n",
       "    .dataframe thead th {\n",
       "        text-align: right;\n",
       "    }\n",
       "</style>\n",
       "<table border=\"1\" class=\"dataframe\">\n",
       "  <thead>\n",
       "    <tr style=\"text-align: right;\">\n",
       "      <th></th>\n",
       "      <th>deviceid</th>\n",
       "      <th>avg_time_charging_lag1</th>\n",
       "      <th>avg_time_charging_lag2</th>\n",
       "      <th>avg_time_charging_lag3</th>\n",
       "      <th>avg_time_charging_lag7</th>\n",
       "      <th>charging_rate_lag3</th>\n",
       "      <th>charging_rate_lag7</th>\n",
       "      <th>avg_time_discharging_lag1</th>\n",
       "      <th>avg_time_discharging_lag2</th>\n",
       "      <th>avg_time_discharging_lag3</th>\n",
       "      <th>...</th>\n",
       "      <th>number_times_restart</th>\n",
       "      <th>avg_volt_change_charging</th>\n",
       "      <th>avg_volt_change_discharging</th>\n",
       "      <th>avg_time_charging</th>\n",
       "      <th>avg_time_discharging</th>\n",
       "      <th>max_voltage_day</th>\n",
       "      <th>piececount</th>\n",
       "      <th>cycle_time</th>\n",
       "      <th>LastRecord</th>\n",
       "      <th>Date Deployed</th>\n",
       "    </tr>\n",
       "  </thead>\n",
       "  <tbody>\n",
       "    <tr>\n",
       "      <th>0</th>\n",
       "      <td>28647</td>\n",
       "      <td>5.12</td>\n",
       "      <td>41.11</td>\n",
       "      <td>6.56</td>\n",
       "      <td>25.39</td>\n",
       "      <td>0.086667</td>\n",
       "      <td>-0.006667</td>\n",
       "      <td>4.37</td>\n",
       "      <td>91.70</td>\n",
       "      <td>15.70</td>\n",
       "      <td>...</td>\n",
       "      <td>2.375000</td>\n",
       "      <td>377.080000</td>\n",
       "      <td>367.428750</td>\n",
       "      <td>21.696250</td>\n",
       "      <td>39.005000</td>\n",
       "      <td>4174.875000</td>\n",
       "      <td>14.200000</td>\n",
       "      <td>60.701250</td>\n",
       "      <td>4/1/21</td>\n",
       "      <td>10/6/19</td>\n",
       "    </tr>\n",
       "    <tr>\n",
       "      <th>1</th>\n",
       "      <td>36175</td>\n",
       "      <td>36.60</td>\n",
       "      <td>5.16</td>\n",
       "      <td>6.23</td>\n",
       "      <td>6.96</td>\n",
       "      <td>0.136667</td>\n",
       "      <td>-1.296667</td>\n",
       "      <td>62.67</td>\n",
       "      <td>6.53</td>\n",
       "      <td>6.16</td>\n",
       "      <td>...</td>\n",
       "      <td>1.000000</td>\n",
       "      <td>350.517857</td>\n",
       "      <td>350.309286</td>\n",
       "      <td>19.883571</td>\n",
       "      <td>32.213571</td>\n",
       "      <td>4161.000000</td>\n",
       "      <td>19.777778</td>\n",
       "      <td>52.097143</td>\n",
       "      <td>4/1/21</td>\n",
       "      <td>10/27/19</td>\n",
       "    </tr>\n",
       "    <tr>\n",
       "      <th>2</th>\n",
       "      <td>16107</td>\n",
       "      <td>5.51</td>\n",
       "      <td>5.04</td>\n",
       "      <td>4.52</td>\n",
       "      <td>5.96</td>\n",
       "      <td>-0.460000</td>\n",
       "      <td>-0.083333</td>\n",
       "      <td>5.13</td>\n",
       "      <td>5.65</td>\n",
       "      <td>4.14</td>\n",
       "      <td>...</td>\n",
       "      <td>4.095238</td>\n",
       "      <td>346.113333</td>\n",
       "      <td>343.409524</td>\n",
       "      <td>13.675238</td>\n",
       "      <td>20.471429</td>\n",
       "      <td>4152.238095</td>\n",
       "      <td>19.200000</td>\n",
       "      <td>34.146667</td>\n",
       "      <td>4/1/21</td>\n",
       "      <td>10/31/19</td>\n",
       "    </tr>\n",
       "    <tr>\n",
       "      <th>3</th>\n",
       "      <td>27362</td>\n",
       "      <td>4.66</td>\n",
       "      <td>39.85</td>\n",
       "      <td>35.76</td>\n",
       "      <td>40.69</td>\n",
       "      <td>0.076667</td>\n",
       "      <td>-0.006667</td>\n",
       "      <td>3.93</td>\n",
       "      <td>76.37</td>\n",
       "      <td>60.86</td>\n",
       "      <td>...</td>\n",
       "      <td>0.736842</td>\n",
       "      <td>356.184211</td>\n",
       "      <td>349.844737</td>\n",
       "      <td>16.306842</td>\n",
       "      <td>26.189474</td>\n",
       "      <td>4164.631579</td>\n",
       "      <td>23.625000</td>\n",
       "      <td>42.496316</td>\n",
       "      <td>4/1/21</td>\n",
       "      <td>10/1/19</td>\n",
       "    </tr>\n",
       "    <tr>\n",
       "      <th>4</th>\n",
       "      <td>19463</td>\n",
       "      <td>5.10</td>\n",
       "      <td>43.24</td>\n",
       "      <td>4.63</td>\n",
       "      <td>5.26</td>\n",
       "      <td>0.040000</td>\n",
       "      <td>-0.153333</td>\n",
       "      <td>4.69</td>\n",
       "      <td>71.44</td>\n",
       "      <td>3.80</td>\n",
       "      <td>...</td>\n",
       "      <td>1.133333</td>\n",
       "      <td>370.904000</td>\n",
       "      <td>367.730000</td>\n",
       "      <td>18.797333</td>\n",
       "      <td>30.812000</td>\n",
       "      <td>4169.800000</td>\n",
       "      <td>12.666667</td>\n",
       "      <td>49.609333</td>\n",
       "      <td>4/1/21</td>\n",
       "      <td>9/13/19</td>\n",
       "    </tr>\n",
       "  </tbody>\n",
       "</table>\n",
       "<p>5 rows × 55 columns</p>\n",
       "</div>"
      ],
      "text/plain": [
       "   deviceid  avg_time_charging_lag1  avg_time_charging_lag2  \\\n",
       "0     28647                    5.12                   41.11   \n",
       "1     36175                   36.60                    5.16   \n",
       "2     16107                    5.51                    5.04   \n",
       "3     27362                    4.66                   39.85   \n",
       "4     19463                    5.10                   43.24   \n",
       "\n",
       "   avg_time_charging_lag3  avg_time_charging_lag7  charging_rate_lag3  \\\n",
       "0                    6.56                   25.39            0.086667   \n",
       "1                    6.23                    6.96            0.136667   \n",
       "2                    4.52                    5.96           -0.460000   \n",
       "3                   35.76                   40.69            0.076667   \n",
       "4                    4.63                    5.26            0.040000   \n",
       "\n",
       "   charging_rate_lag7  avg_time_discharging_lag1  avg_time_discharging_lag2  \\\n",
       "0           -0.006667                       4.37                      91.70   \n",
       "1           -1.296667                      62.67                       6.53   \n",
       "2           -0.083333                       5.13                       5.65   \n",
       "3           -0.006667                       3.93                      76.37   \n",
       "4           -0.153333                       4.69                      71.44   \n",
       "\n",
       "   avg_time_discharging_lag3  ...  number_times_restart  \\\n",
       "0                      15.70  ...              2.375000   \n",
       "1                       6.16  ...              1.000000   \n",
       "2                       4.14  ...              4.095238   \n",
       "3                      60.86  ...              0.736842   \n",
       "4                       3.80  ...              1.133333   \n",
       "\n",
       "   avg_volt_change_charging  avg_volt_change_discharging  avg_time_charging  \\\n",
       "0                377.080000                   367.428750          21.696250   \n",
       "1                350.517857                   350.309286          19.883571   \n",
       "2                346.113333                   343.409524          13.675238   \n",
       "3                356.184211                   349.844737          16.306842   \n",
       "4                370.904000                   367.730000          18.797333   \n",
       "\n",
       "   avg_time_discharging  max_voltage_day  piececount  cycle_time  LastRecord  \\\n",
       "0             39.005000      4174.875000   14.200000   60.701250      4/1/21   \n",
       "1             32.213571      4161.000000   19.777778   52.097143      4/1/21   \n",
       "2             20.471429      4152.238095   19.200000   34.146667      4/1/21   \n",
       "3             26.189474      4164.631579   23.625000   42.496316      4/1/21   \n",
       "4             30.812000      4169.800000   12.666667   49.609333      4/1/21   \n",
       "\n",
       "   Date Deployed  \n",
       "0        10/6/19  \n",
       "1       10/27/19  \n",
       "2       10/31/19  \n",
       "3        10/1/19  \n",
       "4        9/13/19  \n",
       "\n",
       "[5 rows x 55 columns]"
      ]
     },
     "execution_count": 6,
     "metadata": {},
     "output_type": "execute_result"
    }
   ],
   "source": [
    "# Read train file\n",
    "df=pd.read_csv('train updated 04132022.csv')\n",
    "df.head(5)"
   ]
  },
  {
   "cell_type": "code",
   "execution_count": 7,
   "metadata": {
    "colab": {
     "base_uri": "https://localhost:8080/"
    },
    "id": "-Jfko9kPTvYu",
    "outputId": "611e5f3e-1578-450a-95bb-5469285db972"
   },
   "outputs": [
    {
     "data": {
      "text/plain": [
       "(40500, 55)"
      ]
     },
     "execution_count": 7,
     "metadata": {},
     "output_type": "execute_result"
    }
   ],
   "source": [
    "df.shape"
   ]
  },
  {
   "cell_type": "code",
   "execution_count": 8,
   "metadata": {
    "colab": {
     "base_uri": "https://localhost:8080/"
    },
    "id": "uXRf38lT6BiV",
    "outputId": "6e67726c-2dce-4235-98b5-38f2b30d0df3"
   },
   "outputs": [
    {
     "name": "stdout",
     "output_type": "stream",
     "text": [
      "<class 'pandas.core.frame.DataFrame'>\n",
      "RangeIndex: 40500 entries, 0 to 40499\n",
      "Data columns (total 55 columns):\n",
      " #   Column                       Non-Null Count  Dtype  \n",
      "---  ------                       --------------  -----  \n",
      " 0   deviceid                     40500 non-null  int64  \n",
      " 1   avg_time_charging_lag1       40500 non-null  float64\n",
      " 2   avg_time_charging_lag2       40500 non-null  float64\n",
      " 3   avg_time_charging_lag3       40500 non-null  float64\n",
      " 4   avg_time_charging_lag7       40434 non-null  float64\n",
      " 5   charging_rate_lag3           40500 non-null  float64\n",
      " 6   charging_rate_lag7           40488 non-null  float64\n",
      " 7   avg_time_discharging_lag1    40500 non-null  float64\n",
      " 8   avg_time_discharging_lag2    40500 non-null  float64\n",
      " 9   avg_time_discharging_lag3    40500 non-null  float64\n",
      " 10  avg_time_discharging_lag7    40434 non-null  float64\n",
      " 11  discharging_rate_lag3        40500 non-null  float64\n",
      " 12  discharging_rate_lag7        40488 non-null  float64\n",
      " 13  fail_7                       40500 non-null  int64  \n",
      " 14  charge_cycle_time_below_12   40500 non-null  bool   \n",
      " 15  avg_time_charging_lag4       40500 non-null  float64\n",
      " 16  avg_time_discharging_lag4    40500 non-null  float64\n",
      " 17  avg_time_charging_lag5       40493 non-null  float64\n",
      " 18  avg_time_discharging_lag5    40493 non-null  float64\n",
      " 19  avg_time_charging_lag6       40472 non-null  float64\n",
      " 20  avg_time_discharging_lag6    40472 non-null  float64\n",
      " 21  avg_time_charging_lag8       40338 non-null  float64\n",
      " 22  avg_time_discharging_lag8    40338 non-null  float64\n",
      " 23  avg_time_charging_lag9       40126 non-null  float64\n",
      " 24  avg_time_discharging_lag9    40126 non-null  float64\n",
      " 25  avg_time_charging_lag10      39703 non-null  float64\n",
      " 26  avg_time_discharging_lag10   39703 non-null  float64\n",
      " 27  avg_time_charging_lag11      38914 non-null  float64\n",
      " 28  avg_time_discharging_lag11   38914 non-null  float64\n",
      " 29  avg_time_charging_lag12      37743 non-null  float64\n",
      " 30  avg_time_discharging_lag12   37743 non-null  float64\n",
      " 31  avg_time_charging_lag13      36118 non-null  float64\n",
      " 32  avg_time_discharging_lag13   36118 non-null  float64\n",
      " 33  avg_time_charging_lag14      33832 non-null  float64\n",
      " 34  avg_time_discharging_lag14   33832 non-null  float64\n",
      " 35  discharging_rate_lag4        40500 non-null  float64\n",
      " 36  discharging_rate_lag5        40500 non-null  float64\n",
      " 37  discharging_rate_lag6        40498 non-null  float64\n",
      " 38  discharging_rate_lag8        40469 non-null  float64\n",
      " 39  charging_rate_lag4           40500 non-null  float64\n",
      " 40  charging_rate_lag5           40500 non-null  float64\n",
      " 41  charging_rate_lag6           40498 non-null  float64\n",
      " 42  chargecycles                 40500 non-null  float64\n",
      " 43  dischargecycles              40500 non-null  float64\n",
      " 44  total_off_time               40500 non-null  float64\n",
      " 45  number_times_restart         40500 non-null  float64\n",
      " 46  avg_volt_change_charging     40500 non-null  float64\n",
      " 47  avg_volt_change_discharging  40500 non-null  float64\n",
      " 48  avg_time_charging            40500 non-null  float64\n",
      " 49  avg_time_discharging         40500 non-null  float64\n",
      " 50  max_voltage_day              40500 non-null  float64\n",
      " 51  piececount                   40500 non-null  float64\n",
      " 52  cycle_time                   40500 non-null  float64\n",
      " 53  LastRecord                   40500 non-null  object \n",
      " 54  Date Deployed                40500 non-null  object \n",
      "dtypes: bool(1), float64(50), int64(2), object(2)\n",
      "memory usage: 16.7+ MB\n"
     ]
    }
   ],
   "source": [
    "df.info()"
   ]
  },
  {
   "cell_type": "code",
   "execution_count": 9,
   "metadata": {
    "id": "6fg6LMKq6LmO"
   },
   "outputs": [],
   "source": [
    "# Creating New Attribute Used_Days\n",
    "df[['LastRecord','Date Deployed']] = df[['LastRecord','Date Deployed']].apply(pd.to_datetime)"
   ]
  },
  {
   "cell_type": "code",
   "execution_count": 10,
   "metadata": {
    "colab": {
     "base_uri": "https://localhost:8080/",
     "height": 404
    },
    "id": "8PeXuCp26Xb1",
    "outputId": "9809d154-55f2-4e56-9934-c5ad51e8d67d"
   },
   "outputs": [
    {
     "data": {
      "text/html": [
       "<div>\n",
       "<style scoped>\n",
       "    .dataframe tbody tr th:only-of-type {\n",
       "        vertical-align: middle;\n",
       "    }\n",
       "\n",
       "    .dataframe tbody tr th {\n",
       "        vertical-align: top;\n",
       "    }\n",
       "\n",
       "    .dataframe thead th {\n",
       "        text-align: right;\n",
       "    }\n",
       "</style>\n",
       "<table border=\"1\" class=\"dataframe\">\n",
       "  <thead>\n",
       "    <tr style=\"text-align: right;\">\n",
       "      <th></th>\n",
       "      <th>deviceid</th>\n",
       "      <th>avg_time_charging_lag1</th>\n",
       "      <th>avg_time_charging_lag2</th>\n",
       "      <th>avg_time_charging_lag3</th>\n",
       "      <th>avg_time_charging_lag7</th>\n",
       "      <th>charging_rate_lag3</th>\n",
       "      <th>charging_rate_lag7</th>\n",
       "      <th>avg_time_discharging_lag1</th>\n",
       "      <th>avg_time_discharging_lag2</th>\n",
       "      <th>avg_time_discharging_lag3</th>\n",
       "      <th>...</th>\n",
       "      <th>avg_volt_change_charging</th>\n",
       "      <th>avg_volt_change_discharging</th>\n",
       "      <th>avg_time_charging</th>\n",
       "      <th>avg_time_discharging</th>\n",
       "      <th>max_voltage_day</th>\n",
       "      <th>piececount</th>\n",
       "      <th>cycle_time</th>\n",
       "      <th>LastRecord</th>\n",
       "      <th>Date Deployed</th>\n",
       "      <th>used_days</th>\n",
       "    </tr>\n",
       "  </thead>\n",
       "  <tbody>\n",
       "    <tr>\n",
       "      <th>0</th>\n",
       "      <td>28647</td>\n",
       "      <td>5.12</td>\n",
       "      <td>41.11</td>\n",
       "      <td>6.56</td>\n",
       "      <td>25.39</td>\n",
       "      <td>0.086667</td>\n",
       "      <td>-0.006667</td>\n",
       "      <td>4.37</td>\n",
       "      <td>91.70</td>\n",
       "      <td>15.70</td>\n",
       "      <td>...</td>\n",
       "      <td>377.080000</td>\n",
       "      <td>367.428750</td>\n",
       "      <td>21.696250</td>\n",
       "      <td>39.005000</td>\n",
       "      <td>4174.875000</td>\n",
       "      <td>14.200000</td>\n",
       "      <td>60.701250</td>\n",
       "      <td>2021-04-01</td>\n",
       "      <td>2019-10-06</td>\n",
       "      <td>543 days</td>\n",
       "    </tr>\n",
       "    <tr>\n",
       "      <th>1</th>\n",
       "      <td>36175</td>\n",
       "      <td>36.60</td>\n",
       "      <td>5.16</td>\n",
       "      <td>6.23</td>\n",
       "      <td>6.96</td>\n",
       "      <td>0.136667</td>\n",
       "      <td>-1.296667</td>\n",
       "      <td>62.67</td>\n",
       "      <td>6.53</td>\n",
       "      <td>6.16</td>\n",
       "      <td>...</td>\n",
       "      <td>350.517857</td>\n",
       "      <td>350.309286</td>\n",
       "      <td>19.883571</td>\n",
       "      <td>32.213571</td>\n",
       "      <td>4161.000000</td>\n",
       "      <td>19.777778</td>\n",
       "      <td>52.097143</td>\n",
       "      <td>2021-04-01</td>\n",
       "      <td>2019-10-27</td>\n",
       "      <td>522 days</td>\n",
       "    </tr>\n",
       "    <tr>\n",
       "      <th>2</th>\n",
       "      <td>16107</td>\n",
       "      <td>5.51</td>\n",
       "      <td>5.04</td>\n",
       "      <td>4.52</td>\n",
       "      <td>5.96</td>\n",
       "      <td>-0.460000</td>\n",
       "      <td>-0.083333</td>\n",
       "      <td>5.13</td>\n",
       "      <td>5.65</td>\n",
       "      <td>4.14</td>\n",
       "      <td>...</td>\n",
       "      <td>346.113333</td>\n",
       "      <td>343.409524</td>\n",
       "      <td>13.675238</td>\n",
       "      <td>20.471429</td>\n",
       "      <td>4152.238095</td>\n",
       "      <td>19.200000</td>\n",
       "      <td>34.146667</td>\n",
       "      <td>2021-04-01</td>\n",
       "      <td>2019-10-31</td>\n",
       "      <td>518 days</td>\n",
       "    </tr>\n",
       "    <tr>\n",
       "      <th>3</th>\n",
       "      <td>27362</td>\n",
       "      <td>4.66</td>\n",
       "      <td>39.85</td>\n",
       "      <td>35.76</td>\n",
       "      <td>40.69</td>\n",
       "      <td>0.076667</td>\n",
       "      <td>-0.006667</td>\n",
       "      <td>3.93</td>\n",
       "      <td>76.37</td>\n",
       "      <td>60.86</td>\n",
       "      <td>...</td>\n",
       "      <td>356.184211</td>\n",
       "      <td>349.844737</td>\n",
       "      <td>16.306842</td>\n",
       "      <td>26.189474</td>\n",
       "      <td>4164.631579</td>\n",
       "      <td>23.625000</td>\n",
       "      <td>42.496316</td>\n",
       "      <td>2021-04-01</td>\n",
       "      <td>2019-10-01</td>\n",
       "      <td>548 days</td>\n",
       "    </tr>\n",
       "    <tr>\n",
       "      <th>4</th>\n",
       "      <td>19463</td>\n",
       "      <td>5.10</td>\n",
       "      <td>43.24</td>\n",
       "      <td>4.63</td>\n",
       "      <td>5.26</td>\n",
       "      <td>0.040000</td>\n",
       "      <td>-0.153333</td>\n",
       "      <td>4.69</td>\n",
       "      <td>71.44</td>\n",
       "      <td>3.80</td>\n",
       "      <td>...</td>\n",
       "      <td>370.904000</td>\n",
       "      <td>367.730000</td>\n",
       "      <td>18.797333</td>\n",
       "      <td>30.812000</td>\n",
       "      <td>4169.800000</td>\n",
       "      <td>12.666667</td>\n",
       "      <td>49.609333</td>\n",
       "      <td>2021-04-01</td>\n",
       "      <td>2019-09-13</td>\n",
       "      <td>566 days</td>\n",
       "    </tr>\n",
       "  </tbody>\n",
       "</table>\n",
       "<p>5 rows × 56 columns</p>\n",
       "</div>"
      ],
      "text/plain": [
       "   deviceid  avg_time_charging_lag1  avg_time_charging_lag2  \\\n",
       "0     28647                    5.12                   41.11   \n",
       "1     36175                   36.60                    5.16   \n",
       "2     16107                    5.51                    5.04   \n",
       "3     27362                    4.66                   39.85   \n",
       "4     19463                    5.10                   43.24   \n",
       "\n",
       "   avg_time_charging_lag3  avg_time_charging_lag7  charging_rate_lag3  \\\n",
       "0                    6.56                   25.39            0.086667   \n",
       "1                    6.23                    6.96            0.136667   \n",
       "2                    4.52                    5.96           -0.460000   \n",
       "3                   35.76                   40.69            0.076667   \n",
       "4                    4.63                    5.26            0.040000   \n",
       "\n",
       "   charging_rate_lag7  avg_time_discharging_lag1  avg_time_discharging_lag2  \\\n",
       "0           -0.006667                       4.37                      91.70   \n",
       "1           -1.296667                      62.67                       6.53   \n",
       "2           -0.083333                       5.13                       5.65   \n",
       "3           -0.006667                       3.93                      76.37   \n",
       "4           -0.153333                       4.69                      71.44   \n",
       "\n",
       "   avg_time_discharging_lag3  ...  avg_volt_change_charging  \\\n",
       "0                      15.70  ...                377.080000   \n",
       "1                       6.16  ...                350.517857   \n",
       "2                       4.14  ...                346.113333   \n",
       "3                      60.86  ...                356.184211   \n",
       "4                       3.80  ...                370.904000   \n",
       "\n",
       "   avg_volt_change_discharging  avg_time_charging  avg_time_discharging  \\\n",
       "0                   367.428750          21.696250             39.005000   \n",
       "1                   350.309286          19.883571             32.213571   \n",
       "2                   343.409524          13.675238             20.471429   \n",
       "3                   349.844737          16.306842             26.189474   \n",
       "4                   367.730000          18.797333             30.812000   \n",
       "\n",
       "   max_voltage_day  piececount  cycle_time  LastRecord  Date Deployed  \\\n",
       "0      4174.875000   14.200000   60.701250  2021-04-01     2019-10-06   \n",
       "1      4161.000000   19.777778   52.097143  2021-04-01     2019-10-27   \n",
       "2      4152.238095   19.200000   34.146667  2021-04-01     2019-10-31   \n",
       "3      4164.631579   23.625000   42.496316  2021-04-01     2019-10-01   \n",
       "4      4169.800000   12.666667   49.609333  2021-04-01     2019-09-13   \n",
       "\n",
       "   used_days  \n",
       "0   543 days  \n",
       "1   522 days  \n",
       "2   518 days  \n",
       "3   548 days  \n",
       "4   566 days  \n",
       "\n",
       "[5 rows x 56 columns]"
      ]
     },
     "execution_count": 10,
     "metadata": {},
     "output_type": "execute_result"
    }
   ],
   "source": [
    "df['used_days'] = df['LastRecord'] - df['Date Deployed']\n",
    "df.head()"
   ]
  },
  {
   "cell_type": "code",
   "execution_count": 11,
   "metadata": {
    "id": "4uSUiVGQ71pV"
   },
   "outputs": [],
   "source": [
    "df['used_days'] = pd.to_numeric(df['used_days'].dt.days, downcast='integer')"
   ]
  },
  {
   "cell_type": "code",
   "execution_count": 12,
   "metadata": {
    "colab": {
     "base_uri": "https://localhost:8080/"
    },
    "id": "DUPVy2OQ8njK",
    "outputId": "66bfeed6-ef09-4dea-f9f2-e98257f55740"
   },
   "outputs": [
    {
     "name": "stdout",
     "output_type": "stream",
     "text": [
      "<class 'pandas.core.frame.DataFrame'>\n",
      "RangeIndex: 40500 entries, 0 to 40499\n",
      "Data columns (total 56 columns):\n",
      " #   Column                       Non-Null Count  Dtype         \n",
      "---  ------                       --------------  -----         \n",
      " 0   deviceid                     40500 non-null  int64         \n",
      " 1   avg_time_charging_lag1       40500 non-null  float64       \n",
      " 2   avg_time_charging_lag2       40500 non-null  float64       \n",
      " 3   avg_time_charging_lag3       40500 non-null  float64       \n",
      " 4   avg_time_charging_lag7       40434 non-null  float64       \n",
      " 5   charging_rate_lag3           40500 non-null  float64       \n",
      " 6   charging_rate_lag7           40488 non-null  float64       \n",
      " 7   avg_time_discharging_lag1    40500 non-null  float64       \n",
      " 8   avg_time_discharging_lag2    40500 non-null  float64       \n",
      " 9   avg_time_discharging_lag3    40500 non-null  float64       \n",
      " 10  avg_time_discharging_lag7    40434 non-null  float64       \n",
      " 11  discharging_rate_lag3        40500 non-null  float64       \n",
      " 12  discharging_rate_lag7        40488 non-null  float64       \n",
      " 13  fail_7                       40500 non-null  int64         \n",
      " 14  charge_cycle_time_below_12   40500 non-null  bool          \n",
      " 15  avg_time_charging_lag4       40500 non-null  float64       \n",
      " 16  avg_time_discharging_lag4    40500 non-null  float64       \n",
      " 17  avg_time_charging_lag5       40493 non-null  float64       \n",
      " 18  avg_time_discharging_lag5    40493 non-null  float64       \n",
      " 19  avg_time_charging_lag6       40472 non-null  float64       \n",
      " 20  avg_time_discharging_lag6    40472 non-null  float64       \n",
      " 21  avg_time_charging_lag8       40338 non-null  float64       \n",
      " 22  avg_time_discharging_lag8    40338 non-null  float64       \n",
      " 23  avg_time_charging_lag9       40126 non-null  float64       \n",
      " 24  avg_time_discharging_lag9    40126 non-null  float64       \n",
      " 25  avg_time_charging_lag10      39703 non-null  float64       \n",
      " 26  avg_time_discharging_lag10   39703 non-null  float64       \n",
      " 27  avg_time_charging_lag11      38914 non-null  float64       \n",
      " 28  avg_time_discharging_lag11   38914 non-null  float64       \n",
      " 29  avg_time_charging_lag12      37743 non-null  float64       \n",
      " 30  avg_time_discharging_lag12   37743 non-null  float64       \n",
      " 31  avg_time_charging_lag13      36118 non-null  float64       \n",
      " 32  avg_time_discharging_lag13   36118 non-null  float64       \n",
      " 33  avg_time_charging_lag14      33832 non-null  float64       \n",
      " 34  avg_time_discharging_lag14   33832 non-null  float64       \n",
      " 35  discharging_rate_lag4        40500 non-null  float64       \n",
      " 36  discharging_rate_lag5        40500 non-null  float64       \n",
      " 37  discharging_rate_lag6        40498 non-null  float64       \n",
      " 38  discharging_rate_lag8        40469 non-null  float64       \n",
      " 39  charging_rate_lag4           40500 non-null  float64       \n",
      " 40  charging_rate_lag5           40500 non-null  float64       \n",
      " 41  charging_rate_lag6           40498 non-null  float64       \n",
      " 42  chargecycles                 40500 non-null  float64       \n",
      " 43  dischargecycles              40500 non-null  float64       \n",
      " 44  total_off_time               40500 non-null  float64       \n",
      " 45  number_times_restart         40500 non-null  float64       \n",
      " 46  avg_volt_change_charging     40500 non-null  float64       \n",
      " 47  avg_volt_change_discharging  40500 non-null  float64       \n",
      " 48  avg_time_charging            40500 non-null  float64       \n",
      " 49  avg_time_discharging         40500 non-null  float64       \n",
      " 50  max_voltage_day              40500 non-null  float64       \n",
      " 51  piececount                   40500 non-null  float64       \n",
      " 52  cycle_time                   40500 non-null  float64       \n",
      " 53  LastRecord                   40500 non-null  datetime64[ns]\n",
      " 54  Date Deployed                40500 non-null  datetime64[ns]\n",
      " 55  used_days                    40500 non-null  int16         \n",
      "dtypes: bool(1), datetime64[ns](2), float64(50), int16(1), int64(2)\n",
      "memory usage: 16.8 MB\n"
     ]
    }
   ],
   "source": [
    "df.info()"
   ]
  },
  {
   "cell_type": "code",
   "execution_count": 13,
   "metadata": {
    "colab": {
     "base_uri": "https://localhost:8080/",
     "height": 404
    },
    "id": "c0k9Lcvj9F0R",
    "outputId": "f1182233-5141-4761-ebec-83b5c1ca4f93"
   },
   "outputs": [
    {
     "data": {
      "text/html": [
       "<div>\n",
       "<style scoped>\n",
       "    .dataframe tbody tr th:only-of-type {\n",
       "        vertical-align: middle;\n",
       "    }\n",
       "\n",
       "    .dataframe tbody tr th {\n",
       "        vertical-align: top;\n",
       "    }\n",
       "\n",
       "    .dataframe thead th {\n",
       "        text-align: right;\n",
       "    }\n",
       "</style>\n",
       "<table border=\"1\" class=\"dataframe\">\n",
       "  <thead>\n",
       "    <tr style=\"text-align: right;\">\n",
       "      <th></th>\n",
       "      <th>deviceid</th>\n",
       "      <th>avg_time_charging_lag1</th>\n",
       "      <th>avg_time_charging_lag2</th>\n",
       "      <th>avg_time_charging_lag3</th>\n",
       "      <th>avg_time_charging_lag7</th>\n",
       "      <th>charging_rate_lag3</th>\n",
       "      <th>charging_rate_lag7</th>\n",
       "      <th>avg_time_discharging_lag1</th>\n",
       "      <th>avg_time_discharging_lag2</th>\n",
       "      <th>avg_time_discharging_lag3</th>\n",
       "      <th>...</th>\n",
       "      <th>avg_volt_change_charging</th>\n",
       "      <th>avg_volt_change_discharging</th>\n",
       "      <th>avg_time_charging</th>\n",
       "      <th>avg_time_discharging</th>\n",
       "      <th>max_voltage_day</th>\n",
       "      <th>piececount</th>\n",
       "      <th>cycle_time</th>\n",
       "      <th>LastRecord</th>\n",
       "      <th>Date Deployed</th>\n",
       "      <th>used_days</th>\n",
       "    </tr>\n",
       "  </thead>\n",
       "  <tbody>\n",
       "    <tr>\n",
       "      <th>0</th>\n",
       "      <td>28647</td>\n",
       "      <td>5.12</td>\n",
       "      <td>41.11</td>\n",
       "      <td>6.56</td>\n",
       "      <td>25.39</td>\n",
       "      <td>0.086667</td>\n",
       "      <td>-0.006667</td>\n",
       "      <td>4.37</td>\n",
       "      <td>91.70</td>\n",
       "      <td>15.70</td>\n",
       "      <td>...</td>\n",
       "      <td>377.080000</td>\n",
       "      <td>367.428750</td>\n",
       "      <td>21.696250</td>\n",
       "      <td>39.005000</td>\n",
       "      <td>4174.875000</td>\n",
       "      <td>14.200000</td>\n",
       "      <td>60.701250</td>\n",
       "      <td>2021-04-01</td>\n",
       "      <td>2019-10-06</td>\n",
       "      <td>543</td>\n",
       "    </tr>\n",
       "    <tr>\n",
       "      <th>1</th>\n",
       "      <td>36175</td>\n",
       "      <td>36.60</td>\n",
       "      <td>5.16</td>\n",
       "      <td>6.23</td>\n",
       "      <td>6.96</td>\n",
       "      <td>0.136667</td>\n",
       "      <td>-1.296667</td>\n",
       "      <td>62.67</td>\n",
       "      <td>6.53</td>\n",
       "      <td>6.16</td>\n",
       "      <td>...</td>\n",
       "      <td>350.517857</td>\n",
       "      <td>350.309286</td>\n",
       "      <td>19.883571</td>\n",
       "      <td>32.213571</td>\n",
       "      <td>4161.000000</td>\n",
       "      <td>19.777778</td>\n",
       "      <td>52.097143</td>\n",
       "      <td>2021-04-01</td>\n",
       "      <td>2019-10-27</td>\n",
       "      <td>522</td>\n",
       "    </tr>\n",
       "    <tr>\n",
       "      <th>2</th>\n",
       "      <td>16107</td>\n",
       "      <td>5.51</td>\n",
       "      <td>5.04</td>\n",
       "      <td>4.52</td>\n",
       "      <td>5.96</td>\n",
       "      <td>-0.460000</td>\n",
       "      <td>-0.083333</td>\n",
       "      <td>5.13</td>\n",
       "      <td>5.65</td>\n",
       "      <td>4.14</td>\n",
       "      <td>...</td>\n",
       "      <td>346.113333</td>\n",
       "      <td>343.409524</td>\n",
       "      <td>13.675238</td>\n",
       "      <td>20.471429</td>\n",
       "      <td>4152.238095</td>\n",
       "      <td>19.200000</td>\n",
       "      <td>34.146667</td>\n",
       "      <td>2021-04-01</td>\n",
       "      <td>2019-10-31</td>\n",
       "      <td>518</td>\n",
       "    </tr>\n",
       "    <tr>\n",
       "      <th>3</th>\n",
       "      <td>27362</td>\n",
       "      <td>4.66</td>\n",
       "      <td>39.85</td>\n",
       "      <td>35.76</td>\n",
       "      <td>40.69</td>\n",
       "      <td>0.076667</td>\n",
       "      <td>-0.006667</td>\n",
       "      <td>3.93</td>\n",
       "      <td>76.37</td>\n",
       "      <td>60.86</td>\n",
       "      <td>...</td>\n",
       "      <td>356.184211</td>\n",
       "      <td>349.844737</td>\n",
       "      <td>16.306842</td>\n",
       "      <td>26.189474</td>\n",
       "      <td>4164.631579</td>\n",
       "      <td>23.625000</td>\n",
       "      <td>42.496316</td>\n",
       "      <td>2021-04-01</td>\n",
       "      <td>2019-10-01</td>\n",
       "      <td>548</td>\n",
       "    </tr>\n",
       "    <tr>\n",
       "      <th>4</th>\n",
       "      <td>19463</td>\n",
       "      <td>5.10</td>\n",
       "      <td>43.24</td>\n",
       "      <td>4.63</td>\n",
       "      <td>5.26</td>\n",
       "      <td>0.040000</td>\n",
       "      <td>-0.153333</td>\n",
       "      <td>4.69</td>\n",
       "      <td>71.44</td>\n",
       "      <td>3.80</td>\n",
       "      <td>...</td>\n",
       "      <td>370.904000</td>\n",
       "      <td>367.730000</td>\n",
       "      <td>18.797333</td>\n",
       "      <td>30.812000</td>\n",
       "      <td>4169.800000</td>\n",
       "      <td>12.666667</td>\n",
       "      <td>49.609333</td>\n",
       "      <td>2021-04-01</td>\n",
       "      <td>2019-09-13</td>\n",
       "      <td>566</td>\n",
       "    </tr>\n",
       "  </tbody>\n",
       "</table>\n",
       "<p>5 rows × 56 columns</p>\n",
       "</div>"
      ],
      "text/plain": [
       "   deviceid  avg_time_charging_lag1  avg_time_charging_lag2  \\\n",
       "0     28647                    5.12                   41.11   \n",
       "1     36175                   36.60                    5.16   \n",
       "2     16107                    5.51                    5.04   \n",
       "3     27362                    4.66                   39.85   \n",
       "4     19463                    5.10                   43.24   \n",
       "\n",
       "   avg_time_charging_lag3  avg_time_charging_lag7  charging_rate_lag3  \\\n",
       "0                    6.56                   25.39            0.086667   \n",
       "1                    6.23                    6.96            0.136667   \n",
       "2                    4.52                    5.96           -0.460000   \n",
       "3                   35.76                   40.69            0.076667   \n",
       "4                    4.63                    5.26            0.040000   \n",
       "\n",
       "   charging_rate_lag7  avg_time_discharging_lag1  avg_time_discharging_lag2  \\\n",
       "0           -0.006667                       4.37                      91.70   \n",
       "1           -1.296667                      62.67                       6.53   \n",
       "2           -0.083333                       5.13                       5.65   \n",
       "3           -0.006667                       3.93                      76.37   \n",
       "4           -0.153333                       4.69                      71.44   \n",
       "\n",
       "   avg_time_discharging_lag3  ...  avg_volt_change_charging  \\\n",
       "0                      15.70  ...                377.080000   \n",
       "1                       6.16  ...                350.517857   \n",
       "2                       4.14  ...                346.113333   \n",
       "3                      60.86  ...                356.184211   \n",
       "4                       3.80  ...                370.904000   \n",
       "\n",
       "   avg_volt_change_discharging  avg_time_charging  avg_time_discharging  \\\n",
       "0                   367.428750          21.696250             39.005000   \n",
       "1                   350.309286          19.883571             32.213571   \n",
       "2                   343.409524          13.675238             20.471429   \n",
       "3                   349.844737          16.306842             26.189474   \n",
       "4                   367.730000          18.797333             30.812000   \n",
       "\n",
       "   max_voltage_day  piececount  cycle_time  LastRecord  Date Deployed  \\\n",
       "0      4174.875000   14.200000   60.701250  2021-04-01     2019-10-06   \n",
       "1      4161.000000   19.777778   52.097143  2021-04-01     2019-10-27   \n",
       "2      4152.238095   19.200000   34.146667  2021-04-01     2019-10-31   \n",
       "3      4164.631579   23.625000   42.496316  2021-04-01     2019-10-01   \n",
       "4      4169.800000   12.666667   49.609333  2021-04-01     2019-09-13   \n",
       "\n",
       "   used_days  \n",
       "0        543  \n",
       "1        522  \n",
       "2        518  \n",
       "3        548  \n",
       "4        566  \n",
       "\n",
       "[5 rows x 56 columns]"
      ]
     },
     "execution_count": 13,
     "metadata": {},
     "output_type": "execute_result"
    }
   ],
   "source": [
    "df.head()"
   ]
  },
  {
   "cell_type": "code",
   "execution_count": 14,
   "metadata": {
    "colab": {
     "base_uri": "https://localhost:8080/",
     "height": 394
    },
    "id": "Qese2IyKbhZo",
    "outputId": "ac1fd378-203a-415a-853e-9a1adc7415ac"
   },
   "outputs": [
    {
     "data": {
      "text/html": [
       "<div>\n",
       "<style scoped>\n",
       "    .dataframe tbody tr th:only-of-type {\n",
       "        vertical-align: middle;\n",
       "    }\n",
       "\n",
       "    .dataframe tbody tr th {\n",
       "        vertical-align: top;\n",
       "    }\n",
       "\n",
       "    .dataframe thead th {\n",
       "        text-align: right;\n",
       "    }\n",
       "</style>\n",
       "<table border=\"1\" class=\"dataframe\">\n",
       "  <thead>\n",
       "    <tr style=\"text-align: right;\">\n",
       "      <th></th>\n",
       "      <th>deviceid</th>\n",
       "      <th>avg_time_charging_lag1</th>\n",
       "      <th>avg_time_charging_lag2</th>\n",
       "      <th>avg_time_charging_lag3</th>\n",
       "      <th>avg_time_charging_lag7</th>\n",
       "      <th>charging_rate_lag3</th>\n",
       "      <th>charging_rate_lag7</th>\n",
       "      <th>avg_time_discharging_lag1</th>\n",
       "      <th>avg_time_discharging_lag2</th>\n",
       "      <th>avg_time_discharging_lag3</th>\n",
       "      <th>...</th>\n",
       "      <th>total_off_time</th>\n",
       "      <th>number_times_restart</th>\n",
       "      <th>avg_volt_change_charging</th>\n",
       "      <th>avg_volt_change_discharging</th>\n",
       "      <th>avg_time_charging</th>\n",
       "      <th>avg_time_discharging</th>\n",
       "      <th>max_voltage_day</th>\n",
       "      <th>piececount</th>\n",
       "      <th>cycle_time</th>\n",
       "      <th>used_days</th>\n",
       "    </tr>\n",
       "  </thead>\n",
       "  <tbody>\n",
       "    <tr>\n",
       "      <th>count</th>\n",
       "      <td>40500.00</td>\n",
       "      <td>40500.00</td>\n",
       "      <td>40500.00</td>\n",
       "      <td>40500.00</td>\n",
       "      <td>40434.00</td>\n",
       "      <td>40500.00</td>\n",
       "      <td>40488.00</td>\n",
       "      <td>40500.00</td>\n",
       "      <td>40500.00</td>\n",
       "      <td>40500.00</td>\n",
       "      <td>...</td>\n",
       "      <td>40500.00</td>\n",
       "      <td>40500.00</td>\n",
       "      <td>40500.00</td>\n",
       "      <td>40500.00</td>\n",
       "      <td>40500.00</td>\n",
       "      <td>40500.00</td>\n",
       "      <td>40500.00</td>\n",
       "      <td>40500.00</td>\n",
       "      <td>40500.00</td>\n",
       "      <td>40500.00</td>\n",
       "    </tr>\n",
       "    <tr>\n",
       "      <th>mean</th>\n",
       "      <td>27511.16</td>\n",
       "      <td>16.27</td>\n",
       "      <td>16.52</td>\n",
       "      <td>16.28</td>\n",
       "      <td>16.36</td>\n",
       "      <td>-0.04</td>\n",
       "      <td>-0.05</td>\n",
       "      <td>25.80</td>\n",
       "      <td>26.35</td>\n",
       "      <td>25.90</td>\n",
       "      <td>...</td>\n",
       "      <td>25.26</td>\n",
       "      <td>2.15</td>\n",
       "      <td>351.42</td>\n",
       "      <td>348.21</td>\n",
       "      <td>16.35</td>\n",
       "      <td>26.08</td>\n",
       "      <td>4159.27</td>\n",
       "      <td>20.53</td>\n",
       "      <td>42.43</td>\n",
       "      <td>550.00</td>\n",
       "    </tr>\n",
       "    <tr>\n",
       "      <th>std</th>\n",
       "      <td>12992.65</td>\n",
       "      <td>15.37</td>\n",
       "      <td>15.43</td>\n",
       "      <td>15.31</td>\n",
       "      <td>15.14</td>\n",
       "      <td>0.78</td>\n",
       "      <td>0.76</td>\n",
       "      <td>29.24</td>\n",
       "      <td>29.46</td>\n",
       "      <td>29.27</td>\n",
       "      <td>...</td>\n",
       "      <td>37.04</td>\n",
       "      <td>2.22</td>\n",
       "      <td>12.75</td>\n",
       "      <td>13.28</td>\n",
       "      <td>3.55</td>\n",
       "      <td>6.81</td>\n",
       "      <td>11.31</td>\n",
       "      <td>16.46</td>\n",
       "      <td>10.32</td>\n",
       "      <td>22.16</td>\n",
       "    </tr>\n",
       "    <tr>\n",
       "      <th>min</th>\n",
       "      <td>5000.00</td>\n",
       "      <td>1.51</td>\n",
       "      <td>1.06</td>\n",
       "      <td>0.04</td>\n",
       "      <td>1.07</td>\n",
       "      <td>-76.95</td>\n",
       "      <td>-42.13</td>\n",
       "      <td>0.52</td>\n",
       "      <td>0.70</td>\n",
       "      <td>1.07</td>\n",
       "      <td>...</td>\n",
       "      <td>0.00</td>\n",
       "      <td>0.09</td>\n",
       "      <td>304.05</td>\n",
       "      <td>298.25</td>\n",
       "      <td>4.89</td>\n",
       "      <td>4.13</td>\n",
       "      <td>4112.45</td>\n",
       "      <td>1.00</td>\n",
       "      <td>9.02</td>\n",
       "      <td>405.00</td>\n",
       "    </tr>\n",
       "    <tr>\n",
       "      <th>25%</th>\n",
       "      <td>16234.75</td>\n",
       "      <td>4.91</td>\n",
       "      <td>4.92</td>\n",
       "      <td>4.90</td>\n",
       "      <td>4.90</td>\n",
       "      <td>-0.07</td>\n",
       "      <td>-0.10</td>\n",
       "      <td>4.20</td>\n",
       "      <td>4.21</td>\n",
       "      <td>4.20</td>\n",
       "      <td>...</td>\n",
       "      <td>3.57</td>\n",
       "      <td>1.05</td>\n",
       "      <td>342.77</td>\n",
       "      <td>339.27</td>\n",
       "      <td>13.91</td>\n",
       "      <td>21.42</td>\n",
       "      <td>4151.67</td>\n",
       "      <td>11.33</td>\n",
       "      <td>35.36</td>\n",
       "      <td>537.00</td>\n",
       "    </tr>\n",
       "    <tr>\n",
       "      <th>50%</th>\n",
       "      <td>27528.00</td>\n",
       "      <td>5.77</td>\n",
       "      <td>5.83</td>\n",
       "      <td>5.78</td>\n",
       "      <td>5.78</td>\n",
       "      <td>0.00</td>\n",
       "      <td>-0.00</td>\n",
       "      <td>5.86</td>\n",
       "      <td>5.92</td>\n",
       "      <td>5.85</td>\n",
       "      <td>...</td>\n",
       "      <td>17.10</td>\n",
       "      <td>1.47</td>\n",
       "      <td>351.11</td>\n",
       "      <td>347.91</td>\n",
       "      <td>16.20</td>\n",
       "      <td>25.77</td>\n",
       "      <td>4159.16</td>\n",
       "      <td>16.50</td>\n",
       "      <td>42.01</td>\n",
       "      <td>553.00</td>\n",
       "    </tr>\n",
       "    <tr>\n",
       "      <th>75%</th>\n",
       "      <td>38785.25</td>\n",
       "      <td>30.10</td>\n",
       "      <td>30.73</td>\n",
       "      <td>30.06</td>\n",
       "      <td>29.60</td>\n",
       "      <td>0.05</td>\n",
       "      <td>0.06</td>\n",
       "      <td>50.20</td>\n",
       "      <td>51.21</td>\n",
       "      <td>50.30</td>\n",
       "      <td>...</td>\n",
       "      <td>37.00</td>\n",
       "      <td>2.35</td>\n",
       "      <td>359.69</td>\n",
       "      <td>356.84</td>\n",
       "      <td>18.66</td>\n",
       "      <td>30.48</td>\n",
       "      <td>4166.80</td>\n",
       "      <td>24.29</td>\n",
       "      <td>49.12</td>\n",
       "      <td>566.00</td>\n",
       "    </tr>\n",
       "    <tr>\n",
       "      <th>max</th>\n",
       "      <td>49999.00</td>\n",
       "      <td>82.55</td>\n",
       "      <td>98.89</td>\n",
       "      <td>81.00</td>\n",
       "      <td>81.89</td>\n",
       "      <td>9.56</td>\n",
       "      <td>17.91</td>\n",
       "      <td>104.55</td>\n",
       "      <td>110.56</td>\n",
       "      <td>108.17</td>\n",
       "      <td>...</td>\n",
       "      <td>2013.00</td>\n",
       "      <td>38.00</td>\n",
       "      <td>410.96</td>\n",
       "      <td>420.49</td>\n",
       "      <td>34.02</td>\n",
       "      <td>60.75</td>\n",
       "      <td>4208.90</td>\n",
       "      <td>418.92</td>\n",
       "      <td>94.76</td>\n",
       "      <td>606.00</td>\n",
       "    </tr>\n",
       "  </tbody>\n",
       "</table>\n",
       "<p>8 rows × 53 columns</p>\n",
       "</div>"
      ],
      "text/plain": [
       "       deviceid  avg_time_charging_lag1  avg_time_charging_lag2  \\\n",
       "count  40500.00                40500.00                40500.00   \n",
       "mean   27511.16                   16.27                   16.52   \n",
       "std    12992.65                   15.37                   15.43   \n",
       "min     5000.00                    1.51                    1.06   \n",
       "25%    16234.75                    4.91                    4.92   \n",
       "50%    27528.00                    5.77                    5.83   \n",
       "75%    38785.25                   30.10                   30.73   \n",
       "max    49999.00                   82.55                   98.89   \n",
       "\n",
       "       avg_time_charging_lag3  avg_time_charging_lag7  charging_rate_lag3  \\\n",
       "count                40500.00                40434.00            40500.00   \n",
       "mean                    16.28                   16.36               -0.04   \n",
       "std                     15.31                   15.14                0.78   \n",
       "min                      0.04                    1.07              -76.95   \n",
       "25%                      4.90                    4.90               -0.07   \n",
       "50%                      5.78                    5.78                0.00   \n",
       "75%                     30.06                   29.60                0.05   \n",
       "max                     81.00                   81.89                9.56   \n",
       "\n",
       "       charging_rate_lag7  avg_time_discharging_lag1  \\\n",
       "count            40488.00                   40500.00   \n",
       "mean                -0.05                      25.80   \n",
       "std                  0.76                      29.24   \n",
       "min                -42.13                       0.52   \n",
       "25%                 -0.10                       4.20   \n",
       "50%                 -0.00                       5.86   \n",
       "75%                  0.06                      50.20   \n",
       "max                 17.91                     104.55   \n",
       "\n",
       "       avg_time_discharging_lag2  avg_time_discharging_lag3  ...  \\\n",
       "count                   40500.00                   40500.00  ...   \n",
       "mean                       26.35                      25.90  ...   \n",
       "std                        29.46                      29.27  ...   \n",
       "min                         0.70                       1.07  ...   \n",
       "25%                         4.21                       4.20  ...   \n",
       "50%                         5.92                       5.85  ...   \n",
       "75%                        51.21                      50.30  ...   \n",
       "max                       110.56                     108.17  ...   \n",
       "\n",
       "       total_off_time  number_times_restart  avg_volt_change_charging  \\\n",
       "count        40500.00              40500.00                  40500.00   \n",
       "mean            25.26                  2.15                    351.42   \n",
       "std             37.04                  2.22                     12.75   \n",
       "min              0.00                  0.09                    304.05   \n",
       "25%              3.57                  1.05                    342.77   \n",
       "50%             17.10                  1.47                    351.11   \n",
       "75%             37.00                  2.35                    359.69   \n",
       "max           2013.00                 38.00                    410.96   \n",
       "\n",
       "       avg_volt_change_discharging  avg_time_charging  avg_time_discharging  \\\n",
       "count                     40500.00           40500.00              40500.00   \n",
       "mean                        348.21              16.35                 26.08   \n",
       "std                          13.28               3.55                  6.81   \n",
       "min                         298.25               4.89                  4.13   \n",
       "25%                         339.27              13.91                 21.42   \n",
       "50%                         347.91              16.20                 25.77   \n",
       "75%                         356.84              18.66                 30.48   \n",
       "max                         420.49              34.02                 60.75   \n",
       "\n",
       "       max_voltage_day  piececount  cycle_time  used_days  \n",
       "count         40500.00    40500.00    40500.00   40500.00  \n",
       "mean           4159.27       20.53       42.43     550.00  \n",
       "std              11.31       16.46       10.32      22.16  \n",
       "min            4112.45        1.00        9.02     405.00  \n",
       "25%            4151.67       11.33       35.36     537.00  \n",
       "50%            4159.16       16.50       42.01     553.00  \n",
       "75%            4166.80       24.29       49.12     566.00  \n",
       "max            4208.90      418.92       94.76     606.00  \n",
       "\n",
       "[8 rows x 53 columns]"
      ]
     },
     "execution_count": 14,
     "metadata": {},
     "output_type": "execute_result"
    }
   ],
   "source": [
    "round(df.describe(),2)"
   ]
  },
  {
   "cell_type": "code",
   "execution_count": 15,
   "metadata": {
    "colab": {
     "base_uri": "https://localhost:8080/"
    },
    "id": "HebehSdE1EfJ",
    "outputId": "444ea4dd-9448-42ec-b46c-5bf630142720"
   },
   "outputs": [
    {
     "data": {
      "text/plain": [
       "fail_7\n",
       "0    31099\n",
       "1     9401\n",
       "dtype: int64"
      ]
     },
     "execution_count": 15,
     "metadata": {},
     "output_type": "execute_result"
    }
   ],
   "source": [
    "df.value_counts(\"fail_7\")"
   ]
  },
  {
   "cell_type": "code",
   "execution_count": 16,
   "metadata": {
    "colab": {
     "base_uri": "https://localhost:8080/"
    },
    "id": "G20N5vmmIelL",
    "outputId": "bc9c99cc-1452-4901-9703-b8ffe4f7f85f"
   },
   "outputs": [
    {
     "data": {
      "text/plain": [
       "0    76.79\n",
       "1    23.21\n",
       "Name: fail_7, dtype: float64"
      ]
     },
     "execution_count": 16,
     "metadata": {},
     "output_type": "execute_result"
    }
   ],
   "source": [
    "# percentage of meters failed within 7 days\n",
    "# 0 = did not fail, 1 = failed\n",
    "round(df['fail_7'].value_counts(normalize = True) * 100, 2)"
   ]
  },
  {
   "cell_type": "markdown",
   "metadata": {
    "id": "6PwSRzeiYBHy"
   },
   "source": [
    "# EDA (Exploratory Data Analysis)"
   ]
  },
  {
   "cell_type": "code",
   "execution_count": 17,
   "metadata": {
    "colab": {
     "base_uri": "https://localhost:8080/",
     "height": 297
    },
    "id": "uLR7WtnbMsdk",
    "outputId": "b2af0a61-4acd-42d8-ee03-5bf4b616e2b9"
   },
   "outputs": [
    {
     "data": {
      "text/plain": [
       "<AxesSubplot:xlabel='fail_7', ylabel='count'>"
      ]
     },
     "execution_count": 17,
     "metadata": {},
     "output_type": "execute_result"
    },
    {
     "data": {
      "image/png": "[encoded data removed]",
      "text/plain": [
       "<Figure size 432x288 with 1 Axes>"
      ]
     },
     "metadata": {},
     "output_type": "display_data"
    }
   ],
   "source": [
    "# graph counting failed and not failed\n",
    "sns.set_style('whitegrid')\n",
    "sns.countplot(x = 'fail_7', data = df)"
   ]
  },
  {
   "cell_type": "code",
   "execution_count": 18,
   "metadata": {
    "colab": {
     "base_uri": "https://localhost:8080/",
     "height": 297
    },
    "id": "oG3nkh_XMvYu",
    "outputId": "0af67454-3f90-444b-8df9-a0a125dd0e53"
   },
   "outputs": [
    {
     "data": {
      "text/plain": [
       "<AxesSubplot:xlabel='fail_7', ylabel='count'>"
      ]
     },
     "execution_count": 18,
     "metadata": {},
     "output_type": "execute_result"
    },
    {
     "data": {
      "image/png": "[encoded data removed]",
      "text/plain": [
       "<Figure size 432x288 with 1 Axes>"
      ]
     },
     "metadata": {},
     "output_type": "display_data"
    }
   ],
   "source": [
    "# a count plot for fail_7 column separated by charge_cycle_time_below_12\n",
    "sns.countplot(x = 'fail_7', hue = 'charge_cycle_time_below_12', data = df, palette = 'husl')"
   ]
  },
  {
   "cell_type": "code",
   "execution_count": 19,
   "metadata": {
    "colab": {
     "base_uri": "https://localhost:8080/",
     "height": 352
    },
    "id": "OqMZHu-NTM50",
    "outputId": "92355f8a-7466-4b4f-84c1-a4444eeb7881"
   },
   "outputs": [
    {
     "data": {
      "text/plain": [
       "<AxesSubplot:xlabel='fail_7', ylabel='discharging_rate_lag3'>"
      ]
     },
     "execution_count": 19,
     "metadata": {},
     "output_type": "execute_result"
    },
    {
     "data": {
      "image/png": "[encoded data removed]",
      "text/plain": [
       "<Figure size 576x360 with 1 Axes>"
      ]
     },
     "metadata": {},
     "output_type": "display_data"
    }
   ],
   "source": [
    "# bar plot — fail_7 vs discharging_rate_lag3\n",
    "plt.figure(figsize = (8,5))\n",
    "sns.barplot(x = 'fail_7', y = 'discharging_rate_lag3', data = df, palette = 'hls')"
   ]
  },
  {
   "cell_type": "code",
   "execution_count": 20,
   "metadata": {
    "colab": {
     "base_uri": "https://localhost:8080/",
     "height": 420
    },
    "id": "h-lXtroXPZGu",
    "outputId": "7693baf7-6bac-4380-cfca-796a62055ef2"
   },
   "outputs": [
    {
     "data": {
      "text/plain": [
       "<AxesSubplot:xlabel='used_days', ylabel='count'>"
      ]
     },
     "execution_count": 20,
     "metadata": {},
     "output_type": "execute_result"
    },
    {
     "data": {
      "image/png": "[encoded data removed]",
      "text/plain": [
       "<Figure size 2160x720 with 1 Axes>"
      ]
     },
     "metadata": {},
     "output_type": "display_data"
    }
   ],
   "source": [
    "# display failed and not failed in different used_days\n",
    "sns.set_style('whitegrid')\n",
    "plt.figure(figsize = (30, 10))\n",
    "plt.xticks(rotation = 90)\n",
    "sns.countplot(x = 'used_days', hue = 'fail_7', data = df)"
   ]
  },
  {
   "cell_type": "code",
   "execution_count": 21,
   "metadata": {
    "colab": {
     "base_uri": "https://localhost:8080/",
     "height": 352
    },
    "id": "BGNu0MgiWTFM",
    "outputId": "b8290028-acd6-4f79-fc8e-4c8af04a07c4"
   },
   "outputs": [
    {
     "name": "stderr",
     "output_type": "stream",
     "text": [
      "C:\\Users\\Shane Lin\\anaconda3\\lib\\site-packages\\seaborn\\distributions.py:2557: FutureWarning: `distplot` is a deprecated function and will be removed in a future version. Please adapt your code to use either `displot` (a figure-level function with similar flexibility) or `histplot` (an axes-level function for histograms).\n",
      "  warnings.warn(msg, FutureWarning)\n"
     ]
    },
    {
     "data": {
      "text/plain": [
       "<AxesSubplot:xlabel='used_days', ylabel='Density'>"
      ]
     },
     "execution_count": 21,
     "metadata": {},
     "output_type": "execute_result"
    },
    {
     "data": {
      "image/png": "[encoded data removed]",
      "text/plain": [
       "<Figure size 432x288 with 1 Axes>"
      ]
     },
     "metadata": {},
     "output_type": "display_data"
    }
   ],
   "source": [
    "# distribution plot based on used_days\n",
    "sns.distplot(df['used_days'], kde = True, bins = 30)"
   ]
  },
  {
   "cell_type": "markdown",
   "metadata": {
    "id": "hvlDqk3PYK9i"
   },
   "source": [
    "# Data Pre Processing"
   ]
  },
  {
   "cell_type": "code",
   "execution_count": 22,
   "metadata": {
    "colab": {
     "base_uri": "https://localhost:8080/"
    },
    "id": "4CokcfcWnVR-",
    "outputId": "221c64ca-2e56-457a-8d8e-43653737f86a"
   },
   "outputs": [
    {
     "data": {
      "text/plain": [
       "deviceid                          0\n",
       "avg_time_charging_lag1            0\n",
       "avg_time_charging_lag2            0\n",
       "avg_time_charging_lag3            0\n",
       "avg_time_charging_lag7           66\n",
       "charging_rate_lag3                0\n",
       "charging_rate_lag7               12\n",
       "avg_time_discharging_lag1         0\n",
       "avg_time_discharging_lag2         0\n",
       "avg_time_discharging_lag3         0\n",
       "avg_time_discharging_lag7        66\n",
       "discharging_rate_lag3             0\n",
       "discharging_rate_lag7            12\n",
       "fail_7                            0\n",
       "charge_cycle_time_below_12        0\n",
       "avg_time_charging_lag4            0\n",
       "avg_time_discharging_lag4         0\n",
       "avg_time_charging_lag5            7\n",
       "avg_time_discharging_lag5         7\n",
       "avg_time_charging_lag6           28\n",
       "avg_time_discharging_lag6        28\n",
       "avg_time_charging_lag8          162\n",
       "avg_time_discharging_lag8       162\n",
       "avg_time_charging_lag9          374\n",
       "avg_time_discharging_lag9       374\n",
       "avg_time_charging_lag10         797\n",
       "avg_time_discharging_lag10      797\n",
       "avg_time_charging_lag11        1586\n",
       "avg_time_discharging_lag11     1586\n",
       "avg_time_charging_lag12        2757\n",
       "avg_time_discharging_lag12     2757\n",
       "avg_time_charging_lag13        4382\n",
       "avg_time_discharging_lag13     4382\n",
       "avg_time_charging_lag14        6668\n",
       "avg_time_discharging_lag14     6668\n",
       "discharging_rate_lag4             0\n",
       "discharging_rate_lag5             0\n",
       "discharging_rate_lag6             2\n",
       "discharging_rate_lag8            31\n",
       "charging_rate_lag4                0\n",
       "charging_rate_lag5                0\n",
       "charging_rate_lag6                2\n",
       "chargecycles                      0\n",
       "dischargecycles                   0\n",
       "total_off_time                    0\n",
       "number_times_restart              0\n",
       "avg_volt_change_charging          0\n",
       "avg_volt_change_discharging       0\n",
       "avg_time_charging                 0\n",
       "avg_time_discharging              0\n",
       "max_voltage_day                   0\n",
       "piececount                        0\n",
       "cycle_time                        0\n",
       "LastRecord                        0\n",
       "Date Deployed                     0\n",
       "used_days                         0\n",
       "dtype: int64"
      ]
     },
     "execution_count": 22,
     "metadata": {},
     "output_type": "execute_result"
    }
   ],
   "source": [
    "df.isnull().sum(axis = 0)"
   ]
  },
  {
   "cell_type": "code",
   "execution_count": 23,
   "metadata": {
    "colab": {
     "base_uri": "https://localhost:8080/"
    },
    "id": "hCLXvsYdJG7o",
    "outputId": "4157dccb-281e-4e94-db2f-91324c06a5ea"
   },
   "outputs": [
    {
     "data": {
      "text/plain": [
       "avg_time_discharging_lag14    16.46\n",
       "avg_time_charging_lag14       16.46\n",
       "avg_time_discharging_lag13    10.82\n",
       "avg_time_charging_lag13       10.82\n",
       "avg_time_discharging_lag12     6.81\n",
       "avg_time_charging_lag12        6.81\n",
       "avg_time_charging_lag11        3.92\n",
       "avg_time_discharging_lag11     3.92\n",
       "avg_time_charging_lag10        1.97\n",
       "avg_time_discharging_lag10     1.97\n",
       "avg_time_discharging_lag9      0.92\n",
       "avg_time_charging_lag9         0.92\n",
       "avg_time_charging_lag8         0.40\n",
       "avg_time_discharging_lag8      0.40\n",
       "avg_time_charging_lag7         0.16\n",
       "avg_time_discharging_lag7      0.16\n",
       "discharging_rate_lag8          0.08\n",
       "avg_time_discharging_lag6      0.07\n",
       "avg_time_charging_lag6         0.07\n",
       "charging_rate_lag7             0.03\n",
       "discharging_rate_lag7          0.03\n",
       "avg_time_discharging_lag5      0.02\n",
       "avg_time_charging_lag5         0.02\n",
       "dtype: float64"
      ]
     },
     "execution_count": 23,
     "metadata": {},
     "output_type": "execute_result"
    }
   ],
   "source": [
    "# show the percentage of missing data\n",
    "nan_percent = round(100 * (df.isnull().sum()/len(df)), 2)\n",
    "nan_percent = nan_percent[nan_percent > 0].sort_values(ascending = False)\n",
    "nan_percent"
   ]
  },
  {
   "cell_type": "code",
   "execution_count": 24,
   "metadata": {
    "colab": {
     "base_uri": "https://localhost:8080/"
    },
    "id": "UqqFsIQxn4Od",
    "outputId": "cacc739a-cca6-4c40-a102-c275f943cd09"
   },
   "outputs": [
    {
     "data": {
      "text/plain": [
       "(33832, 56)"
      ]
     },
     "execution_count": 24,
     "metadata": {},
     "output_type": "execute_result"
    }
   ],
   "source": [
    "df = df.dropna()\n",
    "df.shape"
   ]
  },
  {
   "cell_type": "code",
   "execution_count": 25,
   "metadata": {
    "colab": {
     "base_uri": "https://localhost:8080/",
     "height": 404
    },
    "id": "KiFPV30ndOgF",
    "outputId": "72bd1241-5962-42da-86a0-bab6172ad990"
   },
   "outputs": [
    {
     "data": {
      "text/html": [
       "<div>\n",
       "<style scoped>\n",
       "    .dataframe tbody tr th:only-of-type {\n",
       "        vertical-align: middle;\n",
       "    }\n",
       "\n",
       "    .dataframe tbody tr th {\n",
       "        vertical-align: top;\n",
       "    }\n",
       "\n",
       "    .dataframe thead th {\n",
       "        text-align: right;\n",
       "    }\n",
       "</style>\n",
       "<table border=\"1\" class=\"dataframe\">\n",
       "  <thead>\n",
       "    <tr style=\"text-align: right;\">\n",
       "      <th></th>\n",
       "      <th>deviceid</th>\n",
       "      <th>avg_time_charging_lag1</th>\n",
       "      <th>avg_time_charging_lag2</th>\n",
       "      <th>avg_time_charging_lag3</th>\n",
       "      <th>avg_time_charging_lag7</th>\n",
       "      <th>charging_rate_lag3</th>\n",
       "      <th>charging_rate_lag7</th>\n",
       "      <th>avg_time_discharging_lag1</th>\n",
       "      <th>avg_time_discharging_lag2</th>\n",
       "      <th>avg_time_discharging_lag3</th>\n",
       "      <th>...</th>\n",
       "      <th>avg_volt_change_charging</th>\n",
       "      <th>avg_volt_change_discharging</th>\n",
       "      <th>avg_time_charging</th>\n",
       "      <th>avg_time_discharging</th>\n",
       "      <th>max_voltage_day</th>\n",
       "      <th>piececount</th>\n",
       "      <th>cycle_time</th>\n",
       "      <th>LastRecord</th>\n",
       "      <th>Date Deployed</th>\n",
       "      <th>used_days</th>\n",
       "    </tr>\n",
       "  </thead>\n",
       "  <tbody>\n",
       "    <tr>\n",
       "      <th>0</th>\n",
       "      <td>33132</td>\n",
       "      <td>12.65</td>\n",
       "      <td>5.23</td>\n",
       "      <td>4.41</td>\n",
       "      <td>4.70</td>\n",
       "      <td>-0.033333</td>\n",
       "      <td>0.000000</td>\n",
       "      <td>17.20</td>\n",
       "      <td>9.02</td>\n",
       "      <td>4.11</td>\n",
       "      <td>...</td>\n",
       "      <td>336.982727</td>\n",
       "      <td>328.134546</td>\n",
       "      <td>15.885000</td>\n",
       "      <td>24.583182</td>\n",
       "      <td>4148.545455</td>\n",
       "      <td>12.466667</td>\n",
       "      <td>40.468182</td>\n",
       "      <td>2021-04-01</td>\n",
       "      <td>2019-09-28</td>\n",
       "      <td>551</td>\n",
       "    </tr>\n",
       "    <tr>\n",
       "      <th>1</th>\n",
       "      <td>38997</td>\n",
       "      <td>31.32</td>\n",
       "      <td>5.68</td>\n",
       "      <td>38.38</td>\n",
       "      <td>4.58</td>\n",
       "      <td>0.060000</td>\n",
       "      <td>0.893333</td>\n",
       "      <td>61.33</td>\n",
       "      <td>6.32</td>\n",
       "      <td>65.78</td>\n",
       "      <td>...</td>\n",
       "      <td>352.932500</td>\n",
       "      <td>347.939000</td>\n",
       "      <td>20.854000</td>\n",
       "      <td>35.322000</td>\n",
       "      <td>4164.850000</td>\n",
       "      <td>11.833333</td>\n",
       "      <td>56.176000</td>\n",
       "      <td>2021-04-01</td>\n",
       "      <td>2019-09-24</td>\n",
       "      <td>555</td>\n",
       "    </tr>\n",
       "    <tr>\n",
       "      <th>2</th>\n",
       "      <td>25747</td>\n",
       "      <td>40.59</td>\n",
       "      <td>26.18</td>\n",
       "      <td>28.27</td>\n",
       "      <td>41.16</td>\n",
       "      <td>-0.146667</td>\n",
       "      <td>-0.416667</td>\n",
       "      <td>78.82</td>\n",
       "      <td>50.26</td>\n",
       "      <td>41.29</td>\n",
       "      <td>...</td>\n",
       "      <td>346.276667</td>\n",
       "      <td>342.993889</td>\n",
       "      <td>24.953333</td>\n",
       "      <td>41.463889</td>\n",
       "      <td>4150.055556</td>\n",
       "      <td>36.300000</td>\n",
       "      <td>66.417222</td>\n",
       "      <td>2021-04-01</td>\n",
       "      <td>2019-09-22</td>\n",
       "      <td>557</td>\n",
       "    </tr>\n",
       "    <tr>\n",
       "      <th>3</th>\n",
       "      <td>15751</td>\n",
       "      <td>5.46</td>\n",
       "      <td>22.22</td>\n",
       "      <td>4.41</td>\n",
       "      <td>45.27</td>\n",
       "      <td>2.116667</td>\n",
       "      <td>-1.286667</td>\n",
       "      <td>5.41</td>\n",
       "      <td>33.34</td>\n",
       "      <td>4.16</td>\n",
       "      <td>...</td>\n",
       "      <td>343.235263</td>\n",
       "      <td>345.003684</td>\n",
       "      <td>18.090526</td>\n",
       "      <td>29.076842</td>\n",
       "      <td>4154.842105</td>\n",
       "      <td>4.750000</td>\n",
       "      <td>47.167368</td>\n",
       "      <td>2021-04-01</td>\n",
       "      <td>2019-08-27</td>\n",
       "      <td>583</td>\n",
       "    </tr>\n",
       "    <tr>\n",
       "      <th>4</th>\n",
       "      <td>26700</td>\n",
       "      <td>35.95</td>\n",
       "      <td>35.56</td>\n",
       "      <td>10.87</td>\n",
       "      <td>4.43</td>\n",
       "      <td>-0.406667</td>\n",
       "      <td>0.560000</td>\n",
       "      <td>48.52</td>\n",
       "      <td>63.61</td>\n",
       "      <td>13.49</td>\n",
       "      <td>...</td>\n",
       "      <td>358.899583</td>\n",
       "      <td>355.918750</td>\n",
       "      <td>18.535833</td>\n",
       "      <td>30.361667</td>\n",
       "      <td>4160.250000</td>\n",
       "      <td>21.166667</td>\n",
       "      <td>48.897500</td>\n",
       "      <td>2021-04-01</td>\n",
       "      <td>2019-09-21</td>\n",
       "      <td>558</td>\n",
       "    </tr>\n",
       "  </tbody>\n",
       "</table>\n",
       "<p>5 rows × 56 columns</p>\n",
       "</div>"
      ],
      "text/plain": [
       "   deviceid  avg_time_charging_lag1  avg_time_charging_lag2  \\\n",
       "0     33132                   12.65                    5.23   \n",
       "1     38997                   31.32                    5.68   \n",
       "2     25747                   40.59                   26.18   \n",
       "3     15751                    5.46                   22.22   \n",
       "4     26700                   35.95                   35.56   \n",
       "\n",
       "   avg_time_charging_lag3  avg_time_charging_lag7  charging_rate_lag3  \\\n",
       "0                    4.41                    4.70           -0.033333   \n",
       "1                   38.38                    4.58            0.060000   \n",
       "2                   28.27                   41.16           -0.146667   \n",
       "3                    4.41                   45.27            2.116667   \n",
       "4                   10.87                    4.43           -0.406667   \n",
       "\n",
       "   charging_rate_lag7  avg_time_discharging_lag1  avg_time_discharging_lag2  \\\n",
       "0            0.000000                      17.20                       9.02   \n",
       "1            0.893333                      61.33                       6.32   \n",
       "2           -0.416667                      78.82                      50.26   \n",
       "3           -1.286667                       5.41                      33.34   \n",
       "4            0.560000                      48.52                      63.61   \n",
       "\n",
       "   avg_time_discharging_lag3  ...  avg_volt_change_charging  \\\n",
       "0                       4.11  ...                336.982727   \n",
       "1                      65.78  ...                352.932500   \n",
       "2                      41.29  ...                346.276667   \n",
       "3                       4.16  ...                343.235263   \n",
       "4                      13.49  ...                358.899583   \n",
       "\n",
       "   avg_volt_change_discharging  avg_time_charging  avg_time_discharging  \\\n",
       "0                   328.134546          15.885000             24.583182   \n",
       "1                   347.939000          20.854000             35.322000   \n",
       "2                   342.993889          24.953333             41.463889   \n",
       "3                   345.003684          18.090526             29.076842   \n",
       "4                   355.918750          18.535833             30.361667   \n",
       "\n",
       "   max_voltage_day  piececount  cycle_time  LastRecord  Date Deployed  \\\n",
       "0      4148.545455   12.466667   40.468182  2021-04-01     2019-09-28   \n",
       "1      4164.850000   11.833333   56.176000  2021-04-01     2019-09-24   \n",
       "2      4150.055556   36.300000   66.417222  2021-04-01     2019-09-22   \n",
       "3      4154.842105    4.750000   47.167368  2021-04-01     2019-08-27   \n",
       "4      4160.250000   21.166667   48.897500  2021-04-01     2019-09-21   \n",
       "\n",
       "   used_days  \n",
       "0        551  \n",
       "1        555  \n",
       "2        557  \n",
       "3        583  \n",
       "4        558  \n",
       "\n",
       "[5 rows x 56 columns]"
      ]
     },
     "execution_count": 25,
     "metadata": {},
     "output_type": "execute_result"
    }
   ],
   "source": [
    "#Prepare smaller data subset\n",
    "sample = df.sample(n = 1000, random_state=11).reset_index(drop=True)\n",
    "sample.head()"
   ]
  },
  {
   "cell_type": "code",
   "execution_count": 26,
   "metadata": {
    "colab": {
     "base_uri": "https://localhost:8080/"
    },
    "id": "9jVtmJgAg7zq",
    "outputId": "201c7191-b0e7-4c6c-d617-1da6fc9ce341"
   },
   "outputs": [
    {
     "data": {
      "text/plain": [
       "(1000, 56)"
      ]
     },
     "execution_count": 26,
     "metadata": {},
     "output_type": "execute_result"
    }
   ],
   "source": [
    "sample.shape"
   ]
  },
  {
   "cell_type": "code",
   "execution_count": 27,
   "metadata": {
    "colab": {
     "base_uri": "https://localhost:8080/"
    },
    "id": "W1KKqzvgbsL8",
    "outputId": "0210c307-18fd-47a7-8a18-7ea81c28e5ed"
   },
   "outputs": [
    {
     "data": {
      "text/plain": [
       "(1000, 53)"
      ]
     },
     "execution_count": 27,
     "metadata": {},
     "output_type": "execute_result"
    }
   ],
   "source": [
    "# drop LastRecord, Date Deployed, and fail_7 for training data set\n",
    "sample = sample.drop([\"LastRecord\", \"Date Deployed\"], axis = 1)\n",
    "labels = np.array(sample[\"fail_7\"])\n",
    "sample = sample.drop(\"fail_7\", axis = 1)\n",
    "feature_list = list(sample.columns)\n",
    "sample.shape"
   ]
  },
  {
   "cell_type": "markdown",
   "metadata": {
    "id": "igs8qGhSYjX_"
   },
   "source": [
    "# Model Building"
   ]
  },
  {
   "cell_type": "markdown",
   "metadata": {
    "id": "CvrATvxtZTbZ"
   },
   "source": [
    "# Random Forest and Decision Trees"
   ]
  },
  {
   "cell_type": "code",
   "execution_count": 28,
   "metadata": {
    "id": "hQwTCRy2hG2A"
   },
   "outputs": [],
   "source": [
    "# Split Train-test set\n",
    "train_sample, test_sample, train_labels, test_labels = \\\n",
    "train_test_split(sample, labels, test_size = 0.25, random_state = 11)"
   ]
  },
  {
   "cell_type": "code",
   "execution_count": 29,
   "metadata": {
    "colab": {
     "base_uri": "https://localhost:8080/"
    },
    "id": "MfExwbrAhkJA",
    "outputId": "0c8e4e6b-6479-4463-f1a1-5ac5aeaf8093"
   },
   "outputs": [
    {
     "data": {
      "text/plain": [
       "RandomForestRegressor(n_estimators=1000, random_state=11)"
      ]
     },
     "execution_count": 29,
     "metadata": {},
     "output_type": "execute_result"
    }
   ],
   "source": [
    "# Instantiate Model. n = # of trees in the forest\n",
    "rf = RandomForestRegressor(n_estimators=1000, random_state=11)\n",
    "rf.fit(train_sample, train_labels)"
   ]
  },
  {
   "cell_type": "code",
   "execution_count": 30,
   "metadata": {
    "colab": {
     "base_uri": "https://localhost:8080/"
    },
    "id": "xgt_5iPto9Ti",
    "outputId": "92eed5a8-e07f-4cf2-9be6-f912a3d9f50a"
   },
   "outputs": [
    {
     "name": "stdout",
     "output_type": "stream",
     "text": [
      "Average model error: 0.314 degree.\n"
     ]
    }
   ],
   "source": [
    "# calculating the average model error\n",
    "predictions = rf.predict(test_sample)\n",
    "errors = abs(predictions - test_labels)\n",
    "avg_model_error = round(np.mean(errors), 3)\n",
    "print(\"Average model error:\", avg_model_error, \"degree.\") "
   ]
  },
  {
   "cell_type": "code",
   "execution_count": 31,
   "metadata": {
    "colab": {
     "base_uri": "https://localhost:8080/"
    },
    "id": "SPBmo3VFrS3b",
    "outputId": "12ece1b8-baee-48f5-d88c-de51c98e2fc4"
   },
   "outputs": [
    {
     "name": "stdout",
     "output_type": "stream",
     "text": [
      "12\n"
     ]
    }
   ],
   "source": [
    "# Desicion Tree Making\n",
    "tree = rf.estimators_[5]\n",
    "print(tree.tree_.max_depth)"
   ]
  },
  {
   "cell_type": "code",
   "execution_count": 33,
   "metadata": {
    "id": "jBS2-xq6wTnn"
   },
   "outputs": [],
   "source": [
    "def tree_graph_to_png(tree, feature_names, png_file_to_save):\n",
    "    tree_str = export_graphviz(tree, feature_names=feature_names, \n",
    "                                     filled=True, out_file=None)\n",
    "    graph = pydotplus.graph_from_dot_data(tree_str)  \n",
    "    graph.write_png(png_file_to_save)"
   ]
  },
  {
   "cell_type": "code",
   "execution_count": 34,
   "metadata": {
    "id": "3sjoAm9dwU43"
   },
   "outputs": [],
   "source": [
    "tree_graph_to_png(tree, feature_names=feature_list, \n",
    "                 png_file_to_save='tree.png')"
   ]
  },
  {
   "cell_type": "code",
   "execution_count": 35,
   "metadata": {
    "colab": {
     "base_uri": "https://localhost:8080/"
    },
    "id": "etcTYEPdskH3",
    "outputId": "3fbb326b-d6d5-4cf1-ce31-1284de3e1077"
   },
   "outputs": [
    {
     "data": {
      "text/plain": [
       "RandomForestRegressor(max_depth=4, n_estimators=10, random_state=11)"
      ]
     },
     "execution_count": 35,
     "metadata": {},
     "output_type": "execute_result"
    }
   ],
   "source": [
    "rf_small = RandomForestRegressor(n_estimators=10, max_depth = 4, random_state=11)\n",
    "rf_small.fit(train_sample, train_labels)"
   ]
  },
  {
   "cell_type": "code",
   "execution_count": 36,
   "metadata": {
    "colab": {
     "base_uri": "https://localhost:8080/"
    },
    "id": "oz1JKJzJswoc",
    "outputId": "1141ea12-85d9-42dc-f39c-560f76684e82"
   },
   "outputs": [
    {
     "name": "stdout",
     "output_type": "stream",
     "text": [
      "4\n"
     ]
    }
   ],
   "source": [
    "tree_small = rf_small.estimators_[7]\n",
    "print(tree_small.tree_.max_depth)"
   ]
  },
  {
   "cell_type": "code",
   "execution_count": 37,
   "metadata": {
    "id": "xAJSoYNNxY2T"
   },
   "outputs": [],
   "source": [
    "tree_graph_to_png(tree_small, feature_names=feature_list, \n",
    "                 png_file_to_save='tree_small.png')"
   ]
  },
  {
   "cell_type": "code",
   "execution_count": 38,
   "metadata": {
    "colab": {
     "base_uri": "https://localhost:8080/"
    },
    "id": "dQtfzZf4tIS6",
    "outputId": "9430dcd2-7e3a-4af0-c780-7cad3db7a55d"
   },
   "outputs": [
    {
     "name": "stdout",
     "output_type": "stream",
     "text": [
      "                        Feature  Importance\n",
      "31   avg_time_discharging_lag13    0.015301\n",
      "40           charging_rate_lag6    0.015359\n",
      "2        avg_time_charging_lag2    0.015765\n",
      "1        avg_time_charging_lag1    0.015798\n",
      "5            charging_rate_lag3    0.016530\n",
      "39           charging_rate_lag5    0.016650\n",
      "23    avg_time_discharging_lag9    0.016817\n",
      "18       avg_time_charging_lag6    0.016891\n",
      "44         number_times_restart    0.017156\n",
      "46  avg_volt_change_discharging    0.017339\n",
      "20       avg_time_charging_lag8    0.017703\n",
      "17    avg_time_discharging_lag5    0.017983\n",
      "32      avg_time_charging_lag14    0.018117\n",
      "6            charging_rate_lag7    0.018504\n",
      "37        discharging_rate_lag8    0.018574\n",
      "38           charging_rate_lag4    0.019656\n",
      "45     avg_volt_change_charging    0.020425\n",
      "15    avg_time_discharging_lag4    0.020575\n",
      "14       avg_time_charging_lag4    0.024713\n",
      "7     avg_time_discharging_lag1    0.024755\n",
      "50                   piececount    0.029270\n",
      "52                    used_days    0.033912\n",
      "27   avg_time_discharging_lag11    0.036310\n",
      "13   charge_cycle_time_below_12    0.097958\n",
      "11        discharging_rate_lag3    0.111873\n"
     ]
    }
   ],
   "source": [
    "#list the feature importance\n",
    "importances = list(rf.feature_importances_)\n",
    "feature_importances = pd.DataFrame([f for f in zip(feature_list, importances)], columns = ['Feature', 'Importance']).nlargest(25, 'Importance')\n",
    "feature_importances.sort_values(by = 'Importance', inplace = True)\n",
    "print(feature_importances)"
   ]
  },
  {
   "cell_type": "code",
   "execution_count": 39,
   "metadata": {
    "colab": {
     "base_uri": "https://localhost:8080/",
     "height": 541
    },
    "id": "Zoo9F6EOGZpx",
    "outputId": "5fc6981a-981e-4369-bac5-1d32dd032ec8"
   },
   "outputs": [
    {
     "data": {
      "image/png": "[encoded data removed]",
      "text/plain": [
       "<Figure size 840x560 with 1 Axes>"
      ]
     },
     "metadata": {},
     "output_type": "display_data"
    }
   ],
   "source": [
    "plt.style.use('fivethirtyeight')\n",
    "plt.figure(figsize=(12, 8), dpi = 70)\n",
    "y_values = range(len(feature_importances))\n",
    "plt.barh(y_values, feature_importances.Importance, align = 'center', alpha = 0.8)\n",
    "plt.yticks(y_values, feature_importances.Feature,fontsize=13)\n",
    "plt.xlabel('Importance')\n",
    "plt.ylabel('Variable')\n",
    "plt.title('Top 25 most important features - Random Forest')\n",
    "plt.savefig('Variable Importances.png', bbox_inches=\"tight\")"
   ]
  },
  {
   "cell_type": "code",
   "execution_count": 40,
   "metadata": {
    "colab": {
     "base_uri": "https://localhost:8080/"
    },
    "id": "98jpAotFwTyd",
    "outputId": "80d743b9-6e5e-4e73-999d-8c77cd01e70e"
   },
   "outputs": [
    {
     "name": "stdout",
     "output_type": "stream",
     "text": [
      "Average (important features only) model error: 0.311 degrees.\n"
     ]
    }
   ],
   "source": [
    "# New random forest with only the top 25 important variables\n",
    "rf_most_important = RandomForestRegressor(n_estimators= 1000, random_state=11)\n",
    "train_important = train_sample[feature_importances.Feature]\n",
    "test_important = test_sample[feature_importances.Feature]\n",
    "rf_most_important.fit(train_important, train_labels)\n",
    "predictions = rf_most_important.predict(test_important)\n",
    "errors = abs(predictions - test_labels)\n",
    "print('Average (important features only) model error:', round(np.mean(errors), 3), 'degrees.')"
   ]
  },
  {
   "cell_type": "markdown",
   "metadata": {
    "id": "s13KmnpIt-YQ"
   },
   "source": [
    "# Logistic Regression"
   ]
  },
  {
   "cell_type": "code",
   "execution_count": 41,
   "metadata": {
    "colab": {
     "base_uri": "https://localhost:8080/"
    },
    "id": "1KwKyBKX1Fzy",
    "outputId": "3b487be7-2e2a-4dd0-8982-17e2229913cf"
   },
   "outputs": [
    {
     "name": "stderr",
     "output_type": "stream",
     "text": [
      "C:\\Users\\Shane Lin\\anaconda3\\lib\\site-packages\\sklearn\\linear_model\\_logistic.py:763: ConvergenceWarning: lbfgs failed to converge (status=1):\n",
      "STOP: TOTAL NO. of ITERATIONS REACHED LIMIT.\n",
      "\n",
      "Increase the number of iterations (max_iter) or scale the data as shown in:\n",
      "    https://scikit-learn.org/stable/modules/preprocessing.html\n",
      "Please also refer to the documentation for alternative solver options:\n",
      "    https://scikit-learn.org/stable/modules/linear_model.html#logistic-regression\n",
      "  n_iter_i = _check_optimize_result(\n"
     ]
    },
    {
     "data": {
      "text/plain": [
       "LogisticRegression(max_iter=200)"
      ]
     },
     "execution_count": 41,
     "metadata": {},
     "output_type": "execute_result"
    }
   ],
   "source": [
    "#Use logisticRegression to predict which machine will be fail in next 7 days\n",
    "model = LogisticRegression(max_iter = 200)\n",
    "model.fit(train_important, train_labels)"
   ]
  },
  {
   "cell_type": "code",
   "execution_count": 42,
   "metadata": {
    "colab": {
     "base_uri": "https://localhost:8080/"
    },
    "id": "ey8uAI9k3ObM",
    "outputId": "f9560279-578c-4927-d47c-21c51b3244ca"
   },
   "outputs": [
    {
     "name": "stdout",
     "output_type": "stream",
     "text": [
      "[0 0 0 0 0 0 0 0 0 0 0 0 0 0 0 0 0 0 0 0 0 0 0 0 0 0 1 0 0 0 1 0 0 0 0 0 0\n",
      " 0 0 0 0 0 0 0 0 0 1 1 0 0 0 0 0 0 0 0 0 0 0 0 0 0 0 0 0 0 0 0 0 0 0 0 0 0\n",
      " 0 0 0 0 0 0 0 0 0 0 0 0 0 0 0 0 1 0 0 0 0 0 1 0 0 0 0 0 0 0 0 0 0 0 0 0 0\n",
      " 1 0 0 1 0 0 0 0 0 0 0 0 0 0 0 0 0 0 0 0 0 0 0 0 0 0 0 0 0 0 0 0 0 0 0 0 0\n",
      " 0 0 0 0 0 0 0 0 0 0 0 1 0 0 0 0 0 0 0 0 0 0 0 0 0 0 0 0 0 1 0 0 0 0 0 0 0\n",
      " 0 0 0 0 0 0 0 0 0 1 0 0 0 0 0 0 0 0 0 0 0 0 0 0 0 0 0 0 0 0 0 0 0 0 0 0 1\n",
      " 0 0 0 0 0 0 0 0 0 0 0 0 0 0 0 0 0 0 0 0 0 0 0 0 0 0 0 0]\n"
     ]
    }
   ],
   "source": [
    "predictions = model.predict(test_important)\n",
    "print(predictions)"
   ]
  },
  {
   "cell_type": "code",
   "execution_count": 43,
   "metadata": {
    "colab": {
     "base_uri": "https://localhost:8080/"
    },
    "id": "N1NSaGI84yLz",
    "outputId": "68a01b05-feb0-4822-a4ab-034d9782efc9"
   },
   "outputs": [
    {
     "name": "stdout",
     "output_type": "stream",
     "text": [
      "              precision    recall  f1-score   support\n",
      "\n",
      "           0       0.77      0.98      0.86       186\n",
      "           1       0.75      0.14      0.24        64\n",
      "\n",
      "    accuracy                           0.77       250\n",
      "   macro avg       0.76      0.56      0.55       250\n",
      "weighted avg       0.76      0.77      0.70       250\n",
      "\n"
     ]
    }
   ],
   "source": [
    "print(classification_report(test_labels, predictions))"
   ]
  },
  {
   "cell_type": "code",
   "execution_count": 44,
   "metadata": {
    "colab": {
     "base_uri": "https://localhost:8080/"
    },
    "id": "6LhzuTZk6pUt",
    "outputId": "0e298d16-2e8c-4061-9b5b-22256ecb88f1"
   },
   "outputs": [
    {
     "data": {
      "text/plain": [
       "array([[183,   3],\n",
       "       [ 55,   9]], dtype=int64)"
      ]
     },
     "execution_count": 44,
     "metadata": {},
     "output_type": "execute_result"
    }
   ],
   "source": [
    "confusion_matrix(test_labels, predictions)"
   ]
  },
  {
   "cell_type": "code",
   "execution_count": 45,
   "metadata": {
    "colab": {
     "base_uri": "https://localhost:8080/",
     "height": 558
    },
    "id": "QqJPI69i7KHn",
    "outputId": "2310eda6-9748-4cea-fd7c-5a502bc4d08b"
   },
   "outputs": [
    {
     "data": {
      "image/png": "[encoded data removed]",
      "text/plain": [
       "<Figure size 648x648 with 2 Axes>"
      ]
     },
     "metadata": {},
     "output_type": "display_data"
    }
   ],
   "source": [
    "#making confusion matrix\n",
    "plt.figure(figsize = (9,9))\n",
    "sns.heatmap(confusion_matrix(test_labels, predictions), annot = True, fmt = '.2f', linewidths = 0.5, square = True, cmap = 'Blues_r')\n",
    "plt.ylabel('Actual label')\n",
    "plt.xlabel('Predicted label')\n",
    "sample_title = 'Accuracy Score: {}'.format(accuracy_score(test_labels, predictions))\n",
    "plt.title(sample_title, size = 15)\n",
    "plt.savefig('Accuracy Score.png', bbox_inches=\"tight\")"
   ]
  },
  {
   "cell_type": "markdown",
   "metadata": {
    "id": "qWSs82KaZeFR"
   },
   "source": [
    "# Deployment"
   ]
  },
  {
   "cell_type": "code",
   "execution_count": 46,
   "metadata": {
    "colab": {
     "base_uri": "https://localhost:8080/",
     "height": 317
    },
    "id": "FcPPevuFD20a",
    "outputId": "4d9958e8-f86a-4b56-9fed-190cc9a70718"
   },
   "outputs": [
    {
     "data": {
      "text/html": [
       "<div>\n",
       "<style scoped>\n",
       "    .dataframe tbody tr th:only-of-type {\n",
       "        vertical-align: middle;\n",
       "    }\n",
       "\n",
       "    .dataframe tbody tr th {\n",
       "        vertical-align: top;\n",
       "    }\n",
       "\n",
       "    .dataframe thead th {\n",
       "        text-align: right;\n",
       "    }\n",
       "</style>\n",
       "<table border=\"1\" class=\"dataframe\">\n",
       "  <thead>\n",
       "    <tr style=\"text-align: right;\">\n",
       "      <th></th>\n",
       "      <th>deviceid</th>\n",
       "      <th>avg_time_charging_lag1</th>\n",
       "      <th>avg_time_charging_lag2</th>\n",
       "      <th>avg_time_charging_lag3</th>\n",
       "      <th>avg_time_charging_lag7</th>\n",
       "      <th>charging_rate_lag3</th>\n",
       "      <th>charging_rate_lag7</th>\n",
       "      <th>avg_time_discharging_lag1</th>\n",
       "      <th>avg_time_discharging_lag2</th>\n",
       "      <th>avg_time_discharging_lag3</th>\n",
       "      <th>...</th>\n",
       "      <th>number_times_restart</th>\n",
       "      <th>avg_volt_change_charging</th>\n",
       "      <th>avg_volt_change_discharging</th>\n",
       "      <th>avg_time_charging</th>\n",
       "      <th>avg_time_discharging</th>\n",
       "      <th>max_voltage_day</th>\n",
       "      <th>piececount</th>\n",
       "      <th>cycle_time</th>\n",
       "      <th>LastRecord</th>\n",
       "      <th>Date Deployed</th>\n",
       "    </tr>\n",
       "  </thead>\n",
       "  <tbody>\n",
       "    <tr>\n",
       "      <th>0</th>\n",
       "      <td>42979</td>\n",
       "      <td>35.56</td>\n",
       "      <td>4.31</td>\n",
       "      <td>5.07</td>\n",
       "      <td>4.60</td>\n",
       "      <td>-0.033333</td>\n",
       "      <td>0.040000</td>\n",
       "      <td>66.29</td>\n",
       "      <td>3.77</td>\n",
       "      <td>4.07</td>\n",
       "      <td>...</td>\n",
       "      <td>3.640000</td>\n",
       "      <td>346.301200</td>\n",
       "      <td>345.379600</td>\n",
       "      <td>17.481600</td>\n",
       "      <td>27.721600</td>\n",
       "      <td>4159.000000</td>\n",
       "      <td>12.437500</td>\n",
       "      <td>45.203200</td>\n",
       "      <td>4/1/21</td>\n",
       "      <td>9/8/19</td>\n",
       "    </tr>\n",
       "    <tr>\n",
       "      <th>1</th>\n",
       "      <td>14911</td>\n",
       "      <td>31.26</td>\n",
       "      <td>4.76</td>\n",
       "      <td>27.40</td>\n",
       "      <td>29.60</td>\n",
       "      <td>-0.076667</td>\n",
       "      <td>-0.060000</td>\n",
       "      <td>49.57</td>\n",
       "      <td>3.63</td>\n",
       "      <td>44.06</td>\n",
       "      <td>...</td>\n",
       "      <td>2.826087</td>\n",
       "      <td>356.218261</td>\n",
       "      <td>357.305652</td>\n",
       "      <td>17.479130</td>\n",
       "      <td>27.650435</td>\n",
       "      <td>4163.608696</td>\n",
       "      <td>34.818182</td>\n",
       "      <td>45.129565</td>\n",
       "      <td>4/1/21</td>\n",
       "      <td>9/13/19</td>\n",
       "    </tr>\n",
       "    <tr>\n",
       "      <th>2</th>\n",
       "      <td>48386</td>\n",
       "      <td>30.08</td>\n",
       "      <td>5.07</td>\n",
       "      <td>4.76</td>\n",
       "      <td>4.74</td>\n",
       "      <td>0.013333</td>\n",
       "      <td>-0.016667</td>\n",
       "      <td>52.96</td>\n",
       "      <td>5.16</td>\n",
       "      <td>4.05</td>\n",
       "      <td>...</td>\n",
       "      <td>1.266667</td>\n",
       "      <td>368.532667</td>\n",
       "      <td>366.844667</td>\n",
       "      <td>11.361333</td>\n",
       "      <td>16.739333</td>\n",
       "      <td>4176.133333</td>\n",
       "      <td>15.888889</td>\n",
       "      <td>28.100667</td>\n",
       "      <td>4/1/21</td>\n",
       "      <td>10/10/19</td>\n",
       "    </tr>\n",
       "    <tr>\n",
       "      <th>3</th>\n",
       "      <td>18822</td>\n",
       "      <td>33.31</td>\n",
       "      <td>32.79</td>\n",
       "      <td>5.09</td>\n",
       "      <td>4.96</td>\n",
       "      <td>0.000000</td>\n",
       "      <td>0.003333</td>\n",
       "      <td>49.26</td>\n",
       "      <td>68.54</td>\n",
       "      <td>5.83</td>\n",
       "      <td>...</td>\n",
       "      <td>0.937500</td>\n",
       "      <td>352.899375</td>\n",
       "      <td>352.595000</td>\n",
       "      <td>17.168750</td>\n",
       "      <td>27.460625</td>\n",
       "      <td>4159.875000</td>\n",
       "      <td>12.750000</td>\n",
       "      <td>44.629375</td>\n",
       "      <td>4/1/21</td>\n",
       "      <td>10/13/19</td>\n",
       "    </tr>\n",
       "    <tr>\n",
       "      <th>4</th>\n",
       "      <td>49810</td>\n",
       "      <td>4.44</td>\n",
       "      <td>30.03</td>\n",
       "      <td>5.57</td>\n",
       "      <td>5.02</td>\n",
       "      <td>-0.200000</td>\n",
       "      <td>-0.030000</td>\n",
       "      <td>4.16</td>\n",
       "      <td>54.80</td>\n",
       "      <td>4.52</td>\n",
       "      <td>...</td>\n",
       "      <td>1.200000</td>\n",
       "      <td>363.912800</td>\n",
       "      <td>365.208400</td>\n",
       "      <td>14.860000</td>\n",
       "      <td>23.980800</td>\n",
       "      <td>4168.400000</td>\n",
       "      <td>7.500000</td>\n",
       "      <td>38.840800</td>\n",
       "      <td>4/1/21</td>\n",
       "      <td>10/19/19</td>\n",
       "    </tr>\n",
       "  </tbody>\n",
       "</table>\n",
       "<p>5 rows × 54 columns</p>\n",
       "</div>"
      ],
      "text/plain": [
       "   deviceid  avg_time_charging_lag1  avg_time_charging_lag2  \\\n",
       "0     42979                   35.56                    4.31   \n",
       "1     14911                   31.26                    4.76   \n",
       "2     48386                   30.08                    5.07   \n",
       "3     18822                   33.31                   32.79   \n",
       "4     49810                    4.44                   30.03   \n",
       "\n",
       "   avg_time_charging_lag3  avg_time_charging_lag7  charging_rate_lag3  \\\n",
       "0                    5.07                    4.60           -0.033333   \n",
       "1                   27.40                   29.60           -0.076667   \n",
       "2                    4.76                    4.74            0.013333   \n",
       "3                    5.09                    4.96            0.000000   \n",
       "4                    5.57                    5.02           -0.200000   \n",
       "\n",
       "   charging_rate_lag7  avg_time_discharging_lag1  avg_time_discharging_lag2  \\\n",
       "0            0.040000                      66.29                       3.77   \n",
       "1           -0.060000                      49.57                       3.63   \n",
       "2           -0.016667                      52.96                       5.16   \n",
       "3            0.003333                      49.26                      68.54   \n",
       "4           -0.030000                       4.16                      54.80   \n",
       "\n",
       "   avg_time_discharging_lag3  ...  number_times_restart  \\\n",
       "0                       4.07  ...              3.640000   \n",
       "1                      44.06  ...              2.826087   \n",
       "2                       4.05  ...              1.266667   \n",
       "3                       5.83  ...              0.937500   \n",
       "4                       4.52  ...              1.200000   \n",
       "\n",
       "   avg_volt_change_charging  avg_volt_change_discharging  avg_time_charging  \\\n",
       "0                346.301200                   345.379600          17.481600   \n",
       "1                356.218261                   357.305652          17.479130   \n",
       "2                368.532667                   366.844667          11.361333   \n",
       "3                352.899375                   352.595000          17.168750   \n",
       "4                363.912800                   365.208400          14.860000   \n",
       "\n",
       "   avg_time_discharging  max_voltage_day  piececount  cycle_time  LastRecord  \\\n",
       "0             27.721600      4159.000000   12.437500   45.203200      4/1/21   \n",
       "1             27.650435      4163.608696   34.818182   45.129565      4/1/21   \n",
       "2             16.739333      4176.133333   15.888889   28.100667      4/1/21   \n",
       "3             27.460625      4159.875000   12.750000   44.629375      4/1/21   \n",
       "4             23.980800      4168.400000    7.500000   38.840800      4/1/21   \n",
       "\n",
       "   Date Deployed  \n",
       "0         9/8/19  \n",
       "1        9/13/19  \n",
       "2       10/10/19  \n",
       "3       10/13/19  \n",
       "4       10/19/19  \n",
       "\n",
       "[5 rows x 54 columns]"
      ]
     },
     "execution_count": 46,
     "metadata": {},
     "output_type": "execute_result"
    }
   ],
   "source": [
    "df_test = pd.read_csv(\"test_for_submissions.csv\")\n",
    "df_test.head()"
   ]
  },
  {
   "cell_type": "code",
   "execution_count": 47,
   "metadata": {
    "colab": {
     "base_uri": "https://localhost:8080/"
    },
    "id": "yXq5mDnRE3T3",
    "outputId": "3b116877-c212-40c0-e37e-afd0667c5e65"
   },
   "outputs": [
    {
     "data": {
      "text/plain": [
       "deviceid                         0\n",
       "avg_time_charging_lag1           0\n",
       "avg_time_charging_lag2           0\n",
       "avg_time_charging_lag3           0\n",
       "avg_time_charging_lag7           3\n",
       "charging_rate_lag3               0\n",
       "charging_rate_lag7               1\n",
       "avg_time_discharging_lag1        0\n",
       "avg_time_discharging_lag2        0\n",
       "avg_time_discharging_lag3        0\n",
       "avg_time_discharging_lag7        3\n",
       "discharging_rate_lag3            0\n",
       "discharging_rate_lag7            1\n",
       "charge_cycle_time_below_12       0\n",
       "avg_time_charging_lag4           0\n",
       "avg_time_discharging_lag4        0\n",
       "avg_time_charging_lag5           1\n",
       "avg_time_discharging_lag5        1\n",
       "avg_time_charging_lag6           2\n",
       "avg_time_discharging_lag6        2\n",
       "avg_time_charging_lag8          17\n",
       "avg_time_discharging_lag8       17\n",
       "avg_time_charging_lag9          43\n",
       "avg_time_discharging_lag9       43\n",
       "avg_time_charging_lag10        103\n",
       "avg_time_discharging_lag10     103\n",
       "avg_time_charging_lag11        182\n",
       "avg_time_discharging_lag11     182\n",
       "avg_time_charging_lag12        322\n",
       "avg_time_discharging_lag12     322\n",
       "avg_time_charging_lag13        528\n",
       "avg_time_discharging_lag13     528\n",
       "avg_time_charging_lag14        787\n",
       "avg_time_discharging_lag14     787\n",
       "discharging_rate_lag4            0\n",
       "discharging_rate_lag5            0\n",
       "discharging_rate_lag6            0\n",
       "discharging_rate_lag8            2\n",
       "charging_rate_lag4               0\n",
       "charging_rate_lag5               0\n",
       "charging_rate_lag6               0\n",
       "chargecycles                     0\n",
       "dischargecycles                  0\n",
       "total_off_time                   0\n",
       "number_times_restart             0\n",
       "avg_volt_change_charging         0\n",
       "avg_volt_change_discharging      0\n",
       "avg_time_charging                0\n",
       "avg_time_discharging             0\n",
       "max_voltage_day                  0\n",
       "piececount                       0\n",
       "cycle_time                       0\n",
       "LastRecord                       0\n",
       "Date Deployed                    0\n",
       "dtype: int64"
      ]
     },
     "execution_count": 47,
     "metadata": {},
     "output_type": "execute_result"
    }
   ],
   "source": [
    "df_test.isnull().sum(0)"
   ]
  },
  {
   "cell_type": "code",
   "execution_count": 48,
   "metadata": {
    "colab": {
     "base_uri": "https://localhost:8080/",
     "height": 404
    },
    "id": "_2lro9ZG4XL6",
    "outputId": "8cdf8452-1ac0-40ce-aa13-d756e66a8633"
   },
   "outputs": [
    {
     "data": {
      "text/html": [
       "<div>\n",
       "<style scoped>\n",
       "    .dataframe tbody tr th:only-of-type {\n",
       "        vertical-align: middle;\n",
       "    }\n",
       "\n",
       "    .dataframe tbody tr th {\n",
       "        vertical-align: top;\n",
       "    }\n",
       "\n",
       "    .dataframe thead th {\n",
       "        text-align: right;\n",
       "    }\n",
       "</style>\n",
       "<table border=\"1\" class=\"dataframe\">\n",
       "  <thead>\n",
       "    <tr style=\"text-align: right;\">\n",
       "      <th></th>\n",
       "      <th>deviceid</th>\n",
       "      <th>avg_time_charging_lag1</th>\n",
       "      <th>avg_time_charging_lag2</th>\n",
       "      <th>avg_time_charging_lag3</th>\n",
       "      <th>avg_time_charging_lag7</th>\n",
       "      <th>charging_rate_lag3</th>\n",
       "      <th>charging_rate_lag7</th>\n",
       "      <th>avg_time_discharging_lag1</th>\n",
       "      <th>avg_time_discharging_lag2</th>\n",
       "      <th>avg_time_discharging_lag3</th>\n",
       "      <th>...</th>\n",
       "      <th>avg_volt_change_charging</th>\n",
       "      <th>avg_volt_change_discharging</th>\n",
       "      <th>avg_time_charging</th>\n",
       "      <th>avg_time_discharging</th>\n",
       "      <th>max_voltage_day</th>\n",
       "      <th>piececount</th>\n",
       "      <th>cycle_time</th>\n",
       "      <th>LastRecord</th>\n",
       "      <th>Date Deployed</th>\n",
       "      <th>used_days</th>\n",
       "    </tr>\n",
       "  </thead>\n",
       "  <tbody>\n",
       "    <tr>\n",
       "      <th>0</th>\n",
       "      <td>42979</td>\n",
       "      <td>35.56</td>\n",
       "      <td>4.31</td>\n",
       "      <td>5.07</td>\n",
       "      <td>4.60</td>\n",
       "      <td>-0.033333</td>\n",
       "      <td>0.040000</td>\n",
       "      <td>66.29</td>\n",
       "      <td>3.77</td>\n",
       "      <td>4.07</td>\n",
       "      <td>...</td>\n",
       "      <td>346.301200</td>\n",
       "      <td>345.379600</td>\n",
       "      <td>17.481600</td>\n",
       "      <td>27.721600</td>\n",
       "      <td>4159.000000</td>\n",
       "      <td>12.437500</td>\n",
       "      <td>45.203200</td>\n",
       "      <td>2021-04-01</td>\n",
       "      <td>2019-09-08</td>\n",
       "      <td>571</td>\n",
       "    </tr>\n",
       "    <tr>\n",
       "      <th>1</th>\n",
       "      <td>14911</td>\n",
       "      <td>31.26</td>\n",
       "      <td>4.76</td>\n",
       "      <td>27.40</td>\n",
       "      <td>29.60</td>\n",
       "      <td>-0.076667</td>\n",
       "      <td>-0.060000</td>\n",
       "      <td>49.57</td>\n",
       "      <td>3.63</td>\n",
       "      <td>44.06</td>\n",
       "      <td>...</td>\n",
       "      <td>356.218261</td>\n",
       "      <td>357.305652</td>\n",
       "      <td>17.479130</td>\n",
       "      <td>27.650435</td>\n",
       "      <td>4163.608696</td>\n",
       "      <td>34.818182</td>\n",
       "      <td>45.129565</td>\n",
       "      <td>2021-04-01</td>\n",
       "      <td>2019-09-13</td>\n",
       "      <td>566</td>\n",
       "    </tr>\n",
       "    <tr>\n",
       "      <th>2</th>\n",
       "      <td>48386</td>\n",
       "      <td>30.08</td>\n",
       "      <td>5.07</td>\n",
       "      <td>4.76</td>\n",
       "      <td>4.74</td>\n",
       "      <td>0.013333</td>\n",
       "      <td>-0.016667</td>\n",
       "      <td>52.96</td>\n",
       "      <td>5.16</td>\n",
       "      <td>4.05</td>\n",
       "      <td>...</td>\n",
       "      <td>368.532667</td>\n",
       "      <td>366.844667</td>\n",
       "      <td>11.361333</td>\n",
       "      <td>16.739333</td>\n",
       "      <td>4176.133333</td>\n",
       "      <td>15.888889</td>\n",
       "      <td>28.100667</td>\n",
       "      <td>2021-04-01</td>\n",
       "      <td>2019-10-10</td>\n",
       "      <td>539</td>\n",
       "    </tr>\n",
       "    <tr>\n",
       "      <th>3</th>\n",
       "      <td>18822</td>\n",
       "      <td>33.31</td>\n",
       "      <td>32.79</td>\n",
       "      <td>5.09</td>\n",
       "      <td>4.96</td>\n",
       "      <td>0.000000</td>\n",
       "      <td>0.003333</td>\n",
       "      <td>49.26</td>\n",
       "      <td>68.54</td>\n",
       "      <td>5.83</td>\n",
       "      <td>...</td>\n",
       "      <td>352.899375</td>\n",
       "      <td>352.595000</td>\n",
       "      <td>17.168750</td>\n",
       "      <td>27.460625</td>\n",
       "      <td>4159.875000</td>\n",
       "      <td>12.750000</td>\n",
       "      <td>44.629375</td>\n",
       "      <td>2021-04-01</td>\n",
       "      <td>2019-10-13</td>\n",
       "      <td>536</td>\n",
       "    </tr>\n",
       "    <tr>\n",
       "      <th>4</th>\n",
       "      <td>49810</td>\n",
       "      <td>4.44</td>\n",
       "      <td>30.03</td>\n",
       "      <td>5.57</td>\n",
       "      <td>5.02</td>\n",
       "      <td>-0.200000</td>\n",
       "      <td>-0.030000</td>\n",
       "      <td>4.16</td>\n",
       "      <td>54.80</td>\n",
       "      <td>4.52</td>\n",
       "      <td>...</td>\n",
       "      <td>363.912800</td>\n",
       "      <td>365.208400</td>\n",
       "      <td>14.860000</td>\n",
       "      <td>23.980800</td>\n",
       "      <td>4168.400000</td>\n",
       "      <td>7.500000</td>\n",
       "      <td>38.840800</td>\n",
       "      <td>2021-04-01</td>\n",
       "      <td>2019-10-19</td>\n",
       "      <td>530</td>\n",
       "    </tr>\n",
       "  </tbody>\n",
       "</table>\n",
       "<p>5 rows × 55 columns</p>\n",
       "</div>"
      ],
      "text/plain": [
       "   deviceid  avg_time_charging_lag1  avg_time_charging_lag2  \\\n",
       "0     42979                   35.56                    4.31   \n",
       "1     14911                   31.26                    4.76   \n",
       "2     48386                   30.08                    5.07   \n",
       "3     18822                   33.31                   32.79   \n",
       "4     49810                    4.44                   30.03   \n",
       "\n",
       "   avg_time_charging_lag3  avg_time_charging_lag7  charging_rate_lag3  \\\n",
       "0                    5.07                    4.60           -0.033333   \n",
       "1                   27.40                   29.60           -0.076667   \n",
       "2                    4.76                    4.74            0.013333   \n",
       "3                    5.09                    4.96            0.000000   \n",
       "4                    5.57                    5.02           -0.200000   \n",
       "\n",
       "   charging_rate_lag7  avg_time_discharging_lag1  avg_time_discharging_lag2  \\\n",
       "0            0.040000                      66.29                       3.77   \n",
       "1           -0.060000                      49.57                       3.63   \n",
       "2           -0.016667                      52.96                       5.16   \n",
       "3            0.003333                      49.26                      68.54   \n",
       "4           -0.030000                       4.16                      54.80   \n",
       "\n",
       "   avg_time_discharging_lag3  ...  avg_volt_change_charging  \\\n",
       "0                       4.07  ...                346.301200   \n",
       "1                      44.06  ...                356.218261   \n",
       "2                       4.05  ...                368.532667   \n",
       "3                       5.83  ...                352.899375   \n",
       "4                       4.52  ...                363.912800   \n",
       "\n",
       "   avg_volt_change_discharging  avg_time_charging  avg_time_discharging  \\\n",
       "0                   345.379600          17.481600             27.721600   \n",
       "1                   357.305652          17.479130             27.650435   \n",
       "2                   366.844667          11.361333             16.739333   \n",
       "3                   352.595000          17.168750             27.460625   \n",
       "4                   365.208400          14.860000             23.980800   \n",
       "\n",
       "   max_voltage_day  piececount  cycle_time  LastRecord  Date Deployed  \\\n",
       "0      4159.000000   12.437500   45.203200  2021-04-01     2019-09-08   \n",
       "1      4163.608696   34.818182   45.129565  2021-04-01     2019-09-13   \n",
       "2      4176.133333   15.888889   28.100667  2021-04-01     2019-10-10   \n",
       "3      4159.875000   12.750000   44.629375  2021-04-01     2019-10-13   \n",
       "4      4168.400000    7.500000   38.840800  2021-04-01     2019-10-19   \n",
       "\n",
       "   used_days  \n",
       "0        571  \n",
       "1        566  \n",
       "2        539  \n",
       "3        536  \n",
       "4        530  \n",
       "\n",
       "[5 rows x 55 columns]"
      ]
     },
     "execution_count": 48,
     "metadata": {},
     "output_type": "execute_result"
    }
   ],
   "source": [
    "df_test[['LastRecord','Date Deployed']] = df_test[['LastRecord','Date Deployed']].apply(pd.to_datetime)\n",
    "df_test['used_days'] = df_test['LastRecord'] - df_test['Date Deployed']\n",
    "df_test['used_days'] = pd.to_numeric(df_test['used_days'].dt.days, downcast='integer')\n",
    "df_test.head()"
   ]
  },
  {
   "cell_type": "code",
   "execution_count": 49,
   "metadata": {
    "colab": {
     "base_uri": "https://localhost:8080/",
     "height": 488
    },
    "id": "FFlOjSRHsnJ5",
    "outputId": "64081a1d-0d94-402c-a9b4-acf0bb72f6d8"
   },
   "outputs": [
    {
     "data": {
      "text/html": [
       "<div>\n",
       "<style scoped>\n",
       "    .dataframe tbody tr th:only-of-type {\n",
       "        vertical-align: middle;\n",
       "    }\n",
       "\n",
       "    .dataframe tbody tr th {\n",
       "        vertical-align: top;\n",
       "    }\n",
       "\n",
       "    .dataframe thead th {\n",
       "        text-align: right;\n",
       "    }\n",
       "</style>\n",
       "<table border=\"1\" class=\"dataframe\">\n",
       "  <thead>\n",
       "    <tr style=\"text-align: right;\">\n",
       "      <th></th>\n",
       "      <th>avg_time_discharging_lag13</th>\n",
       "      <th>charging_rate_lag6</th>\n",
       "      <th>avg_time_charging_lag2</th>\n",
       "      <th>avg_time_charging_lag1</th>\n",
       "      <th>charging_rate_lag3</th>\n",
       "      <th>charging_rate_lag5</th>\n",
       "      <th>avg_time_discharging_lag9</th>\n",
       "      <th>avg_time_charging_lag6</th>\n",
       "      <th>number_times_restart</th>\n",
       "      <th>avg_volt_change_discharging</th>\n",
       "      <th>...</th>\n",
       "      <th>charging_rate_lag4</th>\n",
       "      <th>avg_volt_change_charging</th>\n",
       "      <th>avg_time_discharging_lag4</th>\n",
       "      <th>avg_time_charging_lag4</th>\n",
       "      <th>avg_time_discharging_lag1</th>\n",
       "      <th>piececount</th>\n",
       "      <th>used_days</th>\n",
       "      <th>avg_time_discharging_lag11</th>\n",
       "      <th>charge_cycle_time_below_12</th>\n",
       "      <th>discharging_rate_lag3</th>\n",
       "    </tr>\n",
       "  </thead>\n",
       "  <tbody>\n",
       "    <tr>\n",
       "      <th>7</th>\n",
       "      <td>NaN</td>\n",
       "      <td>0.383333</td>\n",
       "      <td>4.80</td>\n",
       "      <td>17.81</td>\n",
       "      <td>-0.080000</td>\n",
       "      <td>0.043333</td>\n",
       "      <td>5.20</td>\n",
       "      <td>9.39</td>\n",
       "      <td>1.500000</td>\n",
       "      <td>338.649000</td>\n",
       "      <td>...</td>\n",
       "      <td>0.056667</td>\n",
       "      <td>340.917000</td>\n",
       "      <td>3.50</td>\n",
       "      <td>4.69</td>\n",
       "      <td>25.22</td>\n",
       "      <td>6.800000</td>\n",
       "      <td>541</td>\n",
       "      <td>NaN</td>\n",
       "      <td>True</td>\n",
       "      <td>-0.123333</td>\n",
       "    </tr>\n",
       "    <tr>\n",
       "      <th>10</th>\n",
       "      <td>96.47</td>\n",
       "      <td>-0.560000</td>\n",
       "      <td>5.52</td>\n",
       "      <td>27.49</td>\n",
       "      <td>-0.013333</td>\n",
       "      <td>0.083333</td>\n",
       "      <td>4.18</td>\n",
       "      <td>9.62</td>\n",
       "      <td>2.714286</td>\n",
       "      <td>350.835714</td>\n",
       "      <td>...</td>\n",
       "      <td>-0.380000</td>\n",
       "      <td>352.864286</td>\n",
       "      <td>86.79</td>\n",
       "      <td>59.86</td>\n",
       "      <td>47.47</td>\n",
       "      <td>9.285714</td>\n",
       "      <td>541</td>\n",
       "      <td>72.00</td>\n",
       "      <td>True</td>\n",
       "      <td>-0.116667</td>\n",
       "    </tr>\n",
       "    <tr>\n",
       "      <th>14</th>\n",
       "      <td>NaN</td>\n",
       "      <td>0.020000</td>\n",
       "      <td>42.26</td>\n",
       "      <td>4.64</td>\n",
       "      <td>0.183333</td>\n",
       "      <td>0.060000</td>\n",
       "      <td>NaN</td>\n",
       "      <td>4.70</td>\n",
       "      <td>3.555556</td>\n",
       "      <td>346.518889</td>\n",
       "      <td>...</td>\n",
       "      <td>-0.026667</td>\n",
       "      <td>352.260000</td>\n",
       "      <td>5.83</td>\n",
       "      <td>6.08</td>\n",
       "      <td>4.59</td>\n",
       "      <td>15.400000</td>\n",
       "      <td>464</td>\n",
       "      <td>NaN</td>\n",
       "      <td>False</td>\n",
       "      <td>-0.706667</td>\n",
       "    </tr>\n",
       "    <tr>\n",
       "      <th>15</th>\n",
       "      <td>NaN</td>\n",
       "      <td>0.043333</td>\n",
       "      <td>5.04</td>\n",
       "      <td>34.33</td>\n",
       "      <td>-0.016667</td>\n",
       "      <td>-0.020000</td>\n",
       "      <td>53.35</td>\n",
       "      <td>5.11</td>\n",
       "      <td>2.461538</td>\n",
       "      <td>362.306923</td>\n",
       "      <td>...</td>\n",
       "      <td>0.430000</td>\n",
       "      <td>364.147692</td>\n",
       "      <td>5.84</td>\n",
       "      <td>5.04</td>\n",
       "      <td>64.75</td>\n",
       "      <td>14.900000</td>\n",
       "      <td>530</td>\n",
       "      <td>4.63</td>\n",
       "      <td>True</td>\n",
       "      <td>0.033333</td>\n",
       "    </tr>\n",
       "    <tr>\n",
       "      <th>21</th>\n",
       "      <td>NaN</td>\n",
       "      <td>0.006667</td>\n",
       "      <td>18.01</td>\n",
       "      <td>6.09</td>\n",
       "      <td>-0.140000</td>\n",
       "      <td>-1.836667</td>\n",
       "      <td>3.53</td>\n",
       "      <td>43.84</td>\n",
       "      <td>0.500000</td>\n",
       "      <td>359.310833</td>\n",
       "      <td>...</td>\n",
       "      <td>-0.090000</td>\n",
       "      <td>366.890833</td>\n",
       "      <td>29.67</td>\n",
       "      <td>18.21</td>\n",
       "      <td>6.24</td>\n",
       "      <td>8.250000</td>\n",
       "      <td>511</td>\n",
       "      <td>3.97</td>\n",
       "      <td>False</td>\n",
       "      <td>0.443333</td>\n",
       "    </tr>\n",
       "    <tr>\n",
       "      <th>...</th>\n",
       "      <td>...</td>\n",
       "      <td>...</td>\n",
       "      <td>...</td>\n",
       "      <td>...</td>\n",
       "      <td>...</td>\n",
       "      <td>...</td>\n",
       "      <td>...</td>\n",
       "      <td>...</td>\n",
       "      <td>...</td>\n",
       "      <td>...</td>\n",
       "      <td>...</td>\n",
       "      <td>...</td>\n",
       "      <td>...</td>\n",
       "      <td>...</td>\n",
       "      <td>...</td>\n",
       "      <td>...</td>\n",
       "      <td>...</td>\n",
       "      <td>...</td>\n",
       "      <td>...</td>\n",
       "      <td>...</td>\n",
       "      <td>...</td>\n",
       "    </tr>\n",
       "    <tr>\n",
       "      <th>4485</th>\n",
       "      <td>NaN</td>\n",
       "      <td>0.350000</td>\n",
       "      <td>39.61</td>\n",
       "      <td>34.73</td>\n",
       "      <td>-0.873333</td>\n",
       "      <td>-0.660000</td>\n",
       "      <td>16.67</td>\n",
       "      <td>33.41</td>\n",
       "      <td>0.666667</td>\n",
       "      <td>335.087500</td>\n",
       "      <td>...</td>\n",
       "      <td>0.600000</td>\n",
       "      <td>342.671667</td>\n",
       "      <td>40.25</td>\n",
       "      <td>24.81</td>\n",
       "      <td>56.75</td>\n",
       "      <td>20.000000</td>\n",
       "      <td>511</td>\n",
       "      <td>4.44</td>\n",
       "      <td>False</td>\n",
       "      <td>-0.893333</td>\n",
       "    </tr>\n",
       "    <tr>\n",
       "      <th>4489</th>\n",
       "      <td>NaN</td>\n",
       "      <td>0.243333</td>\n",
       "      <td>6.62</td>\n",
       "      <td>46.27</td>\n",
       "      <td>0.000000</td>\n",
       "      <td>-0.320000</td>\n",
       "      <td>4.55</td>\n",
       "      <td>5.04</td>\n",
       "      <td>1.166667</td>\n",
       "      <td>349.920833</td>\n",
       "      <td>...</td>\n",
       "      <td>-0.233333</td>\n",
       "      <td>355.165000</td>\n",
       "      <td>4.06</td>\n",
       "      <td>4.44</td>\n",
       "      <td>85.02</td>\n",
       "      <td>14.571429</td>\n",
       "      <td>586</td>\n",
       "      <td>45.57</td>\n",
       "      <td>True</td>\n",
       "      <td>-0.013333</td>\n",
       "    </tr>\n",
       "    <tr>\n",
       "      <th>4491</th>\n",
       "      <td>NaN</td>\n",
       "      <td>-0.053333</td>\n",
       "      <td>4.98</td>\n",
       "      <td>22.70</td>\n",
       "      <td>-0.980000</td>\n",
       "      <td>-0.020000</td>\n",
       "      <td>4.92</td>\n",
       "      <td>5.88</td>\n",
       "      <td>1.181818</td>\n",
       "      <td>348.303636</td>\n",
       "      <td>...</td>\n",
       "      <td>-0.173333</td>\n",
       "      <td>349.805454</td>\n",
       "      <td>74.62</td>\n",
       "      <td>42.99</td>\n",
       "      <td>46.07</td>\n",
       "      <td>7.000000</td>\n",
       "      <td>482</td>\n",
       "      <td>NaN</td>\n",
       "      <td>False</td>\n",
       "      <td>-0.720000</td>\n",
       "    </tr>\n",
       "    <tr>\n",
       "      <th>4494</th>\n",
       "      <td>NaN</td>\n",
       "      <td>-0.010000</td>\n",
       "      <td>24.98</td>\n",
       "      <td>24.79</td>\n",
       "      <td>-0.063333</td>\n",
       "      <td>0.970000</td>\n",
       "      <td>93.12</td>\n",
       "      <td>19.70</td>\n",
       "      <td>1.307692</td>\n",
       "      <td>339.469231</td>\n",
       "      <td>...</td>\n",
       "      <td>-0.496667</td>\n",
       "      <td>343.527692</td>\n",
       "      <td>47.36</td>\n",
       "      <td>25.69</td>\n",
       "      <td>42.25</td>\n",
       "      <td>17.428571</td>\n",
       "      <td>566</td>\n",
       "      <td>43.65</td>\n",
       "      <td>True</td>\n",
       "      <td>-0.370000</td>\n",
       "    </tr>\n",
       "    <tr>\n",
       "      <th>4496</th>\n",
       "      <td>NaN</td>\n",
       "      <td>-1.536667</td>\n",
       "      <td>4.57</td>\n",
       "      <td>5.29</td>\n",
       "      <td>0.623333</td>\n",
       "      <td>0.010000</td>\n",
       "      <td>4.49</td>\n",
       "      <td>30.55</td>\n",
       "      <td>1.400000</td>\n",
       "      <td>319.759000</td>\n",
       "      <td>...</td>\n",
       "      <td>-0.056667</td>\n",
       "      <td>322.464000</td>\n",
       "      <td>72.59</td>\n",
       "      <td>36.69</td>\n",
       "      <td>6.74</td>\n",
       "      <td>17.166667</td>\n",
       "      <td>566</td>\n",
       "      <td>NaN</td>\n",
       "      <td>False</td>\n",
       "      <td>-0.563333</td>\n",
       "    </tr>\n",
       "  </tbody>\n",
       "</table>\n",
       "<p>787 rows × 25 columns</p>\n",
       "</div>"
      ],
      "text/plain": [
       "      avg_time_discharging_lag13  charging_rate_lag6  avg_time_charging_lag2  \\\n",
       "7                            NaN            0.383333                    4.80   \n",
       "10                         96.47           -0.560000                    5.52   \n",
       "14                           NaN            0.020000                   42.26   \n",
       "15                           NaN            0.043333                    5.04   \n",
       "21                           NaN            0.006667                   18.01   \n",
       "...                          ...                 ...                     ...   \n",
       "4485                         NaN            0.350000                   39.61   \n",
       "4489                         NaN            0.243333                    6.62   \n",
       "4491                         NaN           -0.053333                    4.98   \n",
       "4494                         NaN           -0.010000                   24.98   \n",
       "4496                         NaN           -1.536667                    4.57   \n",
       "\n",
       "      avg_time_charging_lag1  charging_rate_lag3  charging_rate_lag5  \\\n",
       "7                      17.81           -0.080000            0.043333   \n",
       "10                     27.49           -0.013333            0.083333   \n",
       "14                      4.64            0.183333            0.060000   \n",
       "15                     34.33           -0.016667           -0.020000   \n",
       "21                      6.09           -0.140000           -1.836667   \n",
       "...                      ...                 ...                 ...   \n",
       "4485                   34.73           -0.873333           -0.660000   \n",
       "4489                   46.27            0.000000           -0.320000   \n",
       "4491                   22.70           -0.980000           -0.020000   \n",
       "4494                   24.79           -0.063333            0.970000   \n",
       "4496                    5.29            0.623333            0.010000   \n",
       "\n",
       "      avg_time_discharging_lag9  avg_time_charging_lag6  number_times_restart  \\\n",
       "7                          5.20                    9.39              1.500000   \n",
       "10                         4.18                    9.62              2.714286   \n",
       "14                          NaN                    4.70              3.555556   \n",
       "15                        53.35                    5.11              2.461538   \n",
       "21                         3.53                   43.84              0.500000   \n",
       "...                         ...                     ...                   ...   \n",
       "4485                      16.67                   33.41              0.666667   \n",
       "4489                       4.55                    5.04              1.166667   \n",
       "4491                       4.92                    5.88              1.181818   \n",
       "4494                      93.12                   19.70              1.307692   \n",
       "4496                       4.49                   30.55              1.400000   \n",
       "\n",
       "      avg_volt_change_discharging  ...  charging_rate_lag4  \\\n",
       "7                      338.649000  ...            0.056667   \n",
       "10                     350.835714  ...           -0.380000   \n",
       "14                     346.518889  ...           -0.026667   \n",
       "15                     362.306923  ...            0.430000   \n",
       "21                     359.310833  ...           -0.090000   \n",
       "...                           ...  ...                 ...   \n",
       "4485                   335.087500  ...            0.600000   \n",
       "4489                   349.920833  ...           -0.233333   \n",
       "4491                   348.303636  ...           -0.173333   \n",
       "4494                   339.469231  ...           -0.496667   \n",
       "4496                   319.759000  ...           -0.056667   \n",
       "\n",
       "      avg_volt_change_charging  avg_time_discharging_lag4  \\\n",
       "7                   340.917000                       3.50   \n",
       "10                  352.864286                      86.79   \n",
       "14                  352.260000                       5.83   \n",
       "15                  364.147692                       5.84   \n",
       "21                  366.890833                      29.67   \n",
       "...                        ...                        ...   \n",
       "4485                342.671667                      40.25   \n",
       "4489                355.165000                       4.06   \n",
       "4491                349.805454                      74.62   \n",
       "4494                343.527692                      47.36   \n",
       "4496                322.464000                      72.59   \n",
       "\n",
       "      avg_time_charging_lag4  avg_time_discharging_lag1  piececount  \\\n",
       "7                       4.69                      25.22    6.800000   \n",
       "10                     59.86                      47.47    9.285714   \n",
       "14                      6.08                       4.59   15.400000   \n",
       "15                      5.04                      64.75   14.900000   \n",
       "21                     18.21                       6.24    8.250000   \n",
       "...                      ...                        ...         ...   \n",
       "4485                   24.81                      56.75   20.000000   \n",
       "4489                    4.44                      85.02   14.571429   \n",
       "4491                   42.99                      46.07    7.000000   \n",
       "4494                   25.69                      42.25   17.428571   \n",
       "4496                   36.69                       6.74   17.166667   \n",
       "\n",
       "      used_days  avg_time_discharging_lag11  charge_cycle_time_below_12  \\\n",
       "7           541                         NaN                        True   \n",
       "10          541                       72.00                        True   \n",
       "14          464                         NaN                       False   \n",
       "15          530                        4.63                        True   \n",
       "21          511                        3.97                       False   \n",
       "...         ...                         ...                         ...   \n",
       "4485        511                        4.44                       False   \n",
       "4489        586                       45.57                        True   \n",
       "4491        482                         NaN                       False   \n",
       "4494        566                       43.65                        True   \n",
       "4496        566                         NaN                       False   \n",
       "\n",
       "      discharging_rate_lag3  \n",
       "7                 -0.123333  \n",
       "10                -0.116667  \n",
       "14                -0.706667  \n",
       "15                 0.033333  \n",
       "21                 0.443333  \n",
       "...                     ...  \n",
       "4485              -0.893333  \n",
       "4489              -0.013333  \n",
       "4491              -0.720000  \n",
       "4494              -0.370000  \n",
       "4496              -0.563333  \n",
       "\n",
       "[787 rows x 25 columns]"
      ]
     },
     "execution_count": 49,
     "metadata": {},
     "output_type": "execute_result"
    }
   ],
   "source": [
    "test_for_submissions = df_test[feature_importances.Feature]\n",
    "test_for_submissions[test_for_submissions.isnull().any(axis=1)]"
   ]
  },
  {
   "cell_type": "code",
   "execution_count": 50,
   "metadata": {
    "colab": {
     "base_uri": "https://localhost:8080/"
    },
    "id": "SgnqwEF75rxx",
    "outputId": "e088b55c-ceb6-44ea-f82d-9959295504fc"
   },
   "outputs": [
    {
     "data": {
      "text/plain": [
       "SimpleImputer()"
      ]
     },
     "execution_count": 50,
     "metadata": {},
     "output_type": "execute_result"
    }
   ],
   "source": [
    "# Replace Null Data with Mean\n",
    "imp_mean = SimpleImputer(missing_values=np.nan, strategy='mean')\n",
    "imp_mean.fit(test_for_submissions)"
   ]
  },
  {
   "cell_type": "code",
   "execution_count": 51,
   "metadata": {
    "id": "0AxqHdwh8370"
   },
   "outputs": [],
   "source": [
    "test_for_submissions1 = pd.DataFrame(imp_mean.transform(test_for_submissions), columns = feature_importances.Feature)"
   ]
  },
  {
   "cell_type": "code",
   "execution_count": 52,
   "metadata": {
    "colab": {
     "base_uri": "https://localhost:8080/"
    },
    "id": "lMNH_1Vt8ee_",
    "outputId": "a70105d6-50fb-4df4-da20-d12b642826a7"
   },
   "outputs": [
    {
     "data": {
      "text/plain": [
       "Feature\n",
       "avg_time_discharging_lag13     0\n",
       "charging_rate_lag6             0\n",
       "avg_time_charging_lag2         0\n",
       "avg_time_charging_lag1         0\n",
       "charging_rate_lag3             0\n",
       "charging_rate_lag5             0\n",
       "avg_time_discharging_lag9      0\n",
       "avg_time_charging_lag6         0\n",
       "number_times_restart           0\n",
       "avg_volt_change_discharging    0\n",
       "avg_time_charging_lag8         0\n",
       "avg_time_discharging_lag5      0\n",
       "avg_time_charging_lag14        0\n",
       "charging_rate_lag7             0\n",
       "discharging_rate_lag8          0\n",
       "charging_rate_lag4             0\n",
       "avg_volt_change_charging       0\n",
       "avg_time_discharging_lag4      0\n",
       "avg_time_charging_lag4         0\n",
       "avg_time_discharging_lag1      0\n",
       "piececount                     0\n",
       "used_days                      0\n",
       "avg_time_discharging_lag11     0\n",
       "charge_cycle_time_below_12     0\n",
       "discharging_rate_lag3          0\n",
       "dtype: int64"
      ]
     },
     "execution_count": 52,
     "metadata": {},
     "output_type": "execute_result"
    }
   ],
   "source": [
    "test_for_submissions1.isnull().sum(axis = 0)"
   ]
  },
  {
   "cell_type": "code",
   "execution_count": 53,
   "metadata": {
    "colab": {
     "base_uri": "https://localhost:8080/"
    },
    "id": "Je9AhEl9tvaa",
    "outputId": "c4c027de-dc37-4f59-c386-f4140b87246c"
   },
   "outputs": [
    {
     "name": "stdout",
     "output_type": "stream",
     "text": [
      "[0 0 0 ... 0 0 0]\n"
     ]
    }
   ],
   "source": [
    "final_prediction = model.predict(test_for_submissions1)\n",
    "print(final_prediction)"
   ]
  },
  {
   "cell_type": "code",
   "execution_count": 54,
   "metadata": {
    "colab": {
     "base_uri": "https://localhost:8080/"
    },
    "id": "9puzEPwW9dsg",
    "outputId": "aaa47e1f-5416-498e-b10d-07c3ecc78842"
   },
   "outputs": [
    {
     "data": {
      "text/plain": [
       "213"
      ]
     },
     "execution_count": 54,
     "metadata": {},
     "output_type": "execute_result"
    }
   ],
   "source": [
    "final_prediction.sum()"
   ]
  },
  {
   "cell_type": "code",
   "execution_count": 55,
   "metadata": {
    "id": "BEAxyvAcu5GI"
   },
   "outputs": [],
   "source": [
    "# Export to excel as final prediction\n",
    "df_test[\"predicted_fail_7\"] = final_prediction\n",
    "df_test_final = pd.DataFrame(df_test[['deviceid', 'predicted_fail_7']])\n",
    "df_test_final.to_csv(\"team10_submission.csv\", index=False)"
   ]
  },
  {
   "cell_type": "code",
   "execution_count": 56,
   "metadata": {
    "colab": {
     "base_uri": "https://localhost:8080/",
     "height": 304
    },
    "id": "uO9oXpmM9acc",
    "outputId": "a058659a-0bbb-4d0d-ba6d-25c208b943cb"
   },
   "outputs": [
    {
     "data": {
      "image/png": "[encoded data removed]",
      "text/plain": [
       "<Figure size 432x288 with 1 Axes>"
      ]
     },
     "metadata": {},
     "output_type": "display_data"
    }
   ],
   "source": [
    "# count plot showing our predicted result\n",
    "sns.set_style('whitegrid')\n",
    "sns.countplot(x = 'predicted_fail_7', data = df_test_final)\n",
    "plt.savefig('Predicted_Fail_7.png', bbox_inches=\"tight\")"
   ]
  },
  {
   "cell_type": "code",
   "execution_count": null,
   "metadata": {},
   "outputs": [],
   "source": []
  }
 ],
 "metadata": {
  "colab": {
   "collapsed_sections": [],
   "name": "PB Data Challenge.ipynb",
   "provenance": []
  },
  "kernelspec": {
   "display_name": "Python 3",
   "language": "python",
   "name": "python3"
  },
  "language_info": {
   "codemirror_mode": {
    "name": "ipython",
    "version": 3
   },
   "file_extension": ".py",
   "mimetype": "text/x-python",
   "name": "python",
   "nbconvert_exporter": "python",
   "pygments_lexer": "ipython3",
   "version": "3.8.8"
  }
 },
 "nbformat": 4,
 "nbformat_minor": 1
}
